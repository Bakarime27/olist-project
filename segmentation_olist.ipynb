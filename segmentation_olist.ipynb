{
  "nbformat": 4,
  "nbformat_minor": 0,
  "metadata": {
    "colab": {
      "provenance": [],
      "toc_visible": true,
      "authorship_tag": "ABX9TyOByXghhkkpzJ+0/eMaPevR",
      "include_colab_link": true
    },
    "kernelspec": {
      "name": "python3",
      "display_name": "Python 3"
    },
    "language_info": {
      "name": "python"
    }
  },
  "cells": [
    {
      "cell_type": "markdown",
      "metadata": {
        "id": "view-in-github",
        "colab_type": "text"
      },
      "source": [
        "<a href=\"https://colab.research.google.com/github/Bakarime27/olist-project/blob/main/segmentation_olist.ipynb\" target=\"_parent\"><img src=\"https://colab.research.google.com/assets/colab-badge.svg\" alt=\"Open In Colab\"/></a>"
      ]
    },
    {
      "cell_type": "markdown",
      "source": [
        "#**Segmentez des clients d'un site e-commerce**\n",
        "Ce projet a pour but d'effectuer une segmentation des clients d'Olist (un site d'e-commerce) afin que ses équipes marketing puissent s'en servir dans leurs campagnes de communication.\n",
        "\n",
        "Notre mission est de comprendre les différents types d'utilisateurs grâce à leur comportement et à leurs données personnelles anonymisées.\n",
        "\n",
        "Nous allons fournir une description actionable de la segmentation et de sa logique sous-jacente pour une utilisation optimale. Nous allons également fournir une analyse de la stabilité des segments au cours du temps afin d'établir un contrat de maintenance.\n"
      ],
      "metadata": {
        "id": "gNmIXjPkS-J9"
      }
    },
    {
      "cell_type": "markdown",
      "source": [
        "### **1.&nbsp;Segmentation avec le dataset rfm**"
      ],
      "metadata": {
        "id": "7F41Bb33ZSg9"
      }
    },
    {
      "cell_type": "markdown",
      "source": [
        "### **1.1.&nbsp;Chargement des données**"
      ],
      "metadata": {
        "id": "LiGiOBTzXZyz"
      }
    },
    {
      "cell_type": "code",
      "execution_count": null,
      "metadata": {
        "id": "LYgPeexKSvTN",
        "colab": {
          "base_uri": "https://localhost:8080/"
        },
        "outputId": "e62d47a3-05a4-402c-e971-31e40f564dd0"
      },
      "outputs": [
        {
          "output_type": "stream",
          "name": "stdout",
          "text": [
            "Mounted at /gdrive\n",
            "/gdrive/MyDrive/Datasets\n",
            "2016_Building_Energy_Benchmarking.csv  olist_order_payments_dataset.csv\n",
            "clean-data.csv                         olist_order_reviews_dataset.csv\n",
            "fr.openfoodfacts.org.products.csv      olist_orders_dataset.csv\n",
            "house.csv                              olist_products_dataset.csv\n",
            "olist_customers_dataset.csv            olist-rfm.csv\n",
            "olist-customers-segmentation.csv       olist_sellers_dataset.csv\n",
            "olist_geolocation_dataset.csv          product_category_name_translation.csv\n",
            "olist_order_items_dataset.csv          sea-clean-data.csv\n"
          ]
        }
      ],
      "source": [
        "from google.colab import drive\n",
        "#drive.mount(\"/gdrive\", force_remount=True)\n",
        "#drive.flush_and_unmount()\n",
        "drive.mount('/gdrive')\n",
        "%cd /gdrive/MyDrive/Datasets\n",
        "%ls"
      ]
    },
    {
      "cell_type": "code",
      "source": [
        "import os\n",
        "from time import time\n",
        "import warnings\n",
        "import numpy as np\n",
        "import pandas as pd\n",
        "import matplotlib as mpl\n",
        "import matplotlib.pyplot as plt\n",
        "import seaborn as sns\n",
        "import scipy.stats as sp\n",
        "from datetime import datetime\n",
        "from datetime import timedelta\n",
        "from plotly.offline import download_plotlyjs, init_notebook_mode, iplot\n",
        "import plotly.graph_objs as go\n",
        "from sklearn.preprocessing import StandardScaler, MinMaxScaler\n",
        "from sklearn.compose import ColumnTransformer, make_column_transformer\n",
        "from sklearn.pipeline import Pipeline, make_pipeline\n",
        "from sklearn.decomposition import PCA\n",
        "from sklearn.metrics import homogeneity_score, adjusted_rand_score, adjusted_mutual_info_score\n",
        "\n",
        "# Clustering Librairies import\n",
        "from sklearn.cluster import KMeans\n",
        "from sklearn.cluster import MeanShift, estimate_bandwidth\n",
        "from yellowbrick.cluster import KElbowVisualizer, SilhouetteVisualizer, InterclusterDistance\n",
        "#from kmodes.kprototypes import KPrototypes\n",
        "from math import radians, cos, sin, asin, sqrt"
      ],
      "metadata": {
        "id": "6YLpzuLmXRxO"
      },
      "execution_count": null,
      "outputs": []
    },
    {
      "cell_type": "code",
      "source": [
        "data_rfm = pd.read_csv('olist-rfm.csv', index_col=0)"
      ],
      "metadata": {
        "id": "rRvKddi7YDS3"
      },
      "execution_count": null,
      "outputs": []
    },
    {
      "cell_type": "code",
      "source": [
        "data_rfm.head()"
      ],
      "metadata": {
        "colab": {
          "base_uri": "https://localhost:8080/",
          "height": 206
        },
        "id": "bKTkJGmOYYmS",
        "outputId": "f061f4f0-8248-4efe-b34f-eb112304eab3"
      },
      "execution_count": null,
      "outputs": [
        {
          "output_type": "execute_result",
          "data": {
            "text/plain": [
              "                 customer_unique_id  r_score  f_score  m_score\n",
              "0  0000366f3b9a7992bf8c76cfdf3221e2    111.0        1   141.90\n",
              "1  0000b849f77a49e4a4ce2b2a4ca5be3f    114.0        1    27.19\n",
              "2  0000f46a3911fa3c0805444483337064    536.0        1    86.22\n",
              "3  0000f6ccb0745a6a4b88665a16c9f078    320.0        1    43.62\n",
              "4  0004aac84e0df4da2b147fca70cf8255    287.0        1   196.89"
            ],
            "text/html": [
              "\n",
              "  <div id=\"df-a3736f66-1f09-4df5-b023-34ba902e1cf5\">\n",
              "    <div class=\"colab-df-container\">\n",
              "      <div>\n",
              "<style scoped>\n",
              "    .dataframe tbody tr th:only-of-type {\n",
              "        vertical-align: middle;\n",
              "    }\n",
              "\n",
              "    .dataframe tbody tr th {\n",
              "        vertical-align: top;\n",
              "    }\n",
              "\n",
              "    .dataframe thead th {\n",
              "        text-align: right;\n",
              "    }\n",
              "</style>\n",
              "<table border=\"1\" class=\"dataframe\">\n",
              "  <thead>\n",
              "    <tr style=\"text-align: right;\">\n",
              "      <th></th>\n",
              "      <th>customer_unique_id</th>\n",
              "      <th>r_score</th>\n",
              "      <th>f_score</th>\n",
              "      <th>m_score</th>\n",
              "    </tr>\n",
              "  </thead>\n",
              "  <tbody>\n",
              "    <tr>\n",
              "      <th>0</th>\n",
              "      <td>0000366f3b9a7992bf8c76cfdf3221e2</td>\n",
              "      <td>111.0</td>\n",
              "      <td>1</td>\n",
              "      <td>141.90</td>\n",
              "    </tr>\n",
              "    <tr>\n",
              "      <th>1</th>\n",
              "      <td>0000b849f77a49e4a4ce2b2a4ca5be3f</td>\n",
              "      <td>114.0</td>\n",
              "      <td>1</td>\n",
              "      <td>27.19</td>\n",
              "    </tr>\n",
              "    <tr>\n",
              "      <th>2</th>\n",
              "      <td>0000f46a3911fa3c0805444483337064</td>\n",
              "      <td>536.0</td>\n",
              "      <td>1</td>\n",
              "      <td>86.22</td>\n",
              "    </tr>\n",
              "    <tr>\n",
              "      <th>3</th>\n",
              "      <td>0000f6ccb0745a6a4b88665a16c9f078</td>\n",
              "      <td>320.0</td>\n",
              "      <td>1</td>\n",
              "      <td>43.62</td>\n",
              "    </tr>\n",
              "    <tr>\n",
              "      <th>4</th>\n",
              "      <td>0004aac84e0df4da2b147fca70cf8255</td>\n",
              "      <td>287.0</td>\n",
              "      <td>1</td>\n",
              "      <td>196.89</td>\n",
              "    </tr>\n",
              "  </tbody>\n",
              "</table>\n",
              "</div>\n",
              "      <button class=\"colab-df-convert\" onclick=\"convertToInteractive('df-a3736f66-1f09-4df5-b023-34ba902e1cf5')\"\n",
              "              title=\"Convert this dataframe to an interactive table.\"\n",
              "              style=\"display:none;\">\n",
              "        \n",
              "  <svg xmlns=\"http://www.w3.org/2000/svg\" height=\"24px\"viewBox=\"0 0 24 24\"\n",
              "       width=\"24px\">\n",
              "    <path d=\"M0 0h24v24H0V0z\" fill=\"none\"/>\n",
              "    <path d=\"M18.56 5.44l.94 2.06.94-2.06 2.06-.94-2.06-.94-.94-2.06-.94 2.06-2.06.94zm-11 1L8.5 8.5l.94-2.06 2.06-.94-2.06-.94L8.5 2.5l-.94 2.06-2.06.94zm10 10l.94 2.06.94-2.06 2.06-.94-2.06-.94-.94-2.06-.94 2.06-2.06.94z\"/><path d=\"M17.41 7.96l-1.37-1.37c-.4-.4-.92-.59-1.43-.59-.52 0-1.04.2-1.43.59L10.3 9.45l-7.72 7.72c-.78.78-.78 2.05 0 2.83L4 21.41c.39.39.9.59 1.41.59.51 0 1.02-.2 1.41-.59l7.78-7.78 2.81-2.81c.8-.78.8-2.07 0-2.86zM5.41 20L4 18.59l7.72-7.72 1.47 1.35L5.41 20z\"/>\n",
              "  </svg>\n",
              "      </button>\n",
              "      \n",
              "  <style>\n",
              "    .colab-df-container {\n",
              "      display:flex;\n",
              "      flex-wrap:wrap;\n",
              "      gap: 12px;\n",
              "    }\n",
              "\n",
              "    .colab-df-convert {\n",
              "      background-color: #E8F0FE;\n",
              "      border: none;\n",
              "      border-radius: 50%;\n",
              "      cursor: pointer;\n",
              "      display: none;\n",
              "      fill: #1967D2;\n",
              "      height: 32px;\n",
              "      padding: 0 0 0 0;\n",
              "      width: 32px;\n",
              "    }\n",
              "\n",
              "    .colab-df-convert:hover {\n",
              "      background-color: #E2EBFA;\n",
              "      box-shadow: 0px 1px 2px rgba(60, 64, 67, 0.3), 0px 1px 3px 1px rgba(60, 64, 67, 0.15);\n",
              "      fill: #174EA6;\n",
              "    }\n",
              "\n",
              "    [theme=dark] .colab-df-convert {\n",
              "      background-color: #3B4455;\n",
              "      fill: #D2E3FC;\n",
              "    }\n",
              "\n",
              "    [theme=dark] .colab-df-convert:hover {\n",
              "      background-color: #434B5C;\n",
              "      box-shadow: 0px 1px 3px 1px rgba(0, 0, 0, 0.15);\n",
              "      filter: drop-shadow(0px 1px 2px rgba(0, 0, 0, 0.3));\n",
              "      fill: #FFFFFF;\n",
              "    }\n",
              "  </style>\n",
              "\n",
              "      <script>\n",
              "        const buttonEl =\n",
              "          document.querySelector('#df-a3736f66-1f09-4df5-b023-34ba902e1cf5 button.colab-df-convert');\n",
              "        buttonEl.style.display =\n",
              "          google.colab.kernel.accessAllowed ? 'block' : 'none';\n",
              "\n",
              "        async function convertToInteractive(key) {\n",
              "          const element = document.querySelector('#df-a3736f66-1f09-4df5-b023-34ba902e1cf5');\n",
              "          const dataTable =\n",
              "            await google.colab.kernel.invokeFunction('convertToInteractive',\n",
              "                                                     [key], {});\n",
              "          if (!dataTable) return;\n",
              "\n",
              "          const docLinkHtml = 'Like what you see? Visit the ' +\n",
              "            '<a target=\"_blank\" href=https://colab.research.google.com/notebooks/data_table.ipynb>data table notebook</a>'\n",
              "            + ' to learn more about interactive tables.';\n",
              "          element.innerHTML = '';\n",
              "          dataTable['output_type'] = 'display_data';\n",
              "          await google.colab.output.renderOutput(dataTable, element);\n",
              "          const docLink = document.createElement('div');\n",
              "          docLink.innerHTML = docLinkHtml;\n",
              "          element.appendChild(docLink);\n",
              "        }\n",
              "      </script>\n",
              "    </div>\n",
              "  </div>\n",
              "  "
            ]
          },
          "metadata": {},
          "execution_count": 4
        }
      ]
    },
    {
      "cell_type": "code",
      "source": [
        "data_rfm.info()"
      ],
      "metadata": {
        "colab": {
          "base_uri": "https://localhost:8080/"
        },
        "id": "Qd3YILHfYSLy",
        "outputId": "f7e6c411-3a92-4341-f786-6bf5e9796d3b"
      },
      "execution_count": null,
      "outputs": [
        {
          "output_type": "stream",
          "name": "stdout",
          "text": [
            "<class 'pandas.core.frame.DataFrame'>\n",
            "Int64Index: 96096 entries, 0 to 96095\n",
            "Data columns (total 4 columns):\n",
            " #   Column              Non-Null Count  Dtype  \n",
            "---  ------              --------------  -----  \n",
            " 0   customer_unique_id  96096 non-null  object \n",
            " 1   r_score             93357 non-null  float64\n",
            " 2   f_score             96096 non-null  int64  \n",
            " 3   m_score             93357 non-null  float64\n",
            "dtypes: float64(2), int64(1), object(1)\n",
            "memory usage: 3.7+ MB\n"
          ]
        }
      ]
    },
    {
      "cell_type": "code",
      "source": [
        "# Find features to fill and fillna with mode\n",
        "features_to_fill = data_rfm.isnull().sum()\n",
        "features_to_fill = list(features_to_fill[features_to_fill.values > 0].index)\n",
        "\n",
        "for f in features_to_fill:\n",
        "    data_rfm[f] = data_rfm[f].fillna(data_rfm[f].mode()[0])\n",
        "    print(f, data_rfm[f].mode()[0])"
      ],
      "metadata": {
        "colab": {
          "base_uri": "https://localhost:8080/"
        },
        "id": "R59jpWrfcz6b",
        "outputId": "7c72d25c-5c19-4f5c-999d-5ce8e5e30108"
      },
      "execution_count": null,
      "outputs": [
        {
          "output_type": "stream",
          "name": "stdout",
          "text": [
            "r_score 277.0\n",
            "m_score 77.57\n"
          ]
        }
      ]
    },
    {
      "cell_type": "code",
      "source": [
        "data_rfm.info()"
      ],
      "metadata": {
        "colab": {
          "base_uri": "https://localhost:8080/"
        },
        "id": "u23TP9KzgYBh",
        "outputId": "9464615b-d351-42c3-f08c-b271b41979c5"
      },
      "execution_count": null,
      "outputs": [
        {
          "output_type": "stream",
          "name": "stdout",
          "text": [
            "<class 'pandas.core.frame.DataFrame'>\n",
            "Int64Index: 96096 entries, 0 to 96095\n",
            "Data columns (total 4 columns):\n",
            " #   Column              Non-Null Count  Dtype  \n",
            "---  ------              --------------  -----  \n",
            " 0   customer_unique_id  96096 non-null  object \n",
            " 1   r_score             96096 non-null  float64\n",
            " 2   f_score             96096 non-null  int64  \n",
            " 3   m_score             96096 non-null  float64\n",
            "dtypes: float64(2), int64(1), object(1)\n",
            "memory usage: 3.7+ MB\n"
          ]
        }
      ]
    },
    {
      "cell_type": "code",
      "source": [
        "numerical_features = list(data_rfm.select_dtypes(include=['int64','float64', 'uint8']).columns)\n",
        "numerical_features"
      ],
      "metadata": {
        "colab": {
          "base_uri": "https://localhost:8080/"
        },
        "id": "_FaU1jOJbSFR",
        "outputId": "93ba4a65-40d5-4745-ed26-dd13e128632f"
      },
      "execution_count": null,
      "outputs": [
        {
          "output_type": "execute_result",
          "data": {
            "text/plain": [
              "['r_score', 'f_score', 'm_score']"
            ]
          },
          "metadata": {},
          "execution_count": 8
        }
      ]
    },
    {
      "cell_type": "markdown",
      "source": [
        "### **1.2.&nbsp;Application de Kmeans**"
      ],
      "metadata": {
        "id": "d7XROqP_Zg2B"
      }
    },
    {
      "cell_type": "code",
      "source": [
        "scaler = StandardScaler()\n",
        "preprocessor = ColumnTransformer([\n",
        "    ('scaler', scaler, numerical_features)])"
      ],
      "metadata": {
        "id": "dzhqXXuDaQsh"
      },
      "execution_count": null,
      "outputs": []
    },
    {
      "cell_type": "code",
      "source": [
        "X_rfm = data_rfm.copy()\n",
        "\n",
        "# Elbow method\n",
        "kmeans_visualizer = Pipeline([\n",
        "    (\"preprocessor\", preprocessor),\n",
        "    (\"kelbowvisualizer\", KElbowVisualizer(KMeans(),K=(4,12)))])\n",
        "kmeans_visualizer.fit(X_rfm)\n",
        "kmeans_visualizer.named_steps['kelbowvisualizer'].show(outpath=\"../images/olist/elbow-rfm.png\")"
      ],
      "metadata": {
        "colab": {
          "base_uri": "https://localhost:8080/",
          "height": 393
        },
        "id": "JQVGNkACae0x",
        "outputId": "18dd60d7-853f-4119-939c-f12d757af316"
      },
      "execution_count": null,
      "outputs": [
        {
          "output_type": "execute_result",
          "data": {
            "text/plain": [
              "<matplotlib.axes._subplots.AxesSubplot at 0x7f70df7619d0>"
            ]
          },
          "metadata": {},
          "execution_count": 10
        },
        {
          "output_type": "display_data",
          "data": {
            "text/plain": [
              "<Figure size 576x396 with 2 Axes>"
            ],
            "image/png": "[encoded data removed]"
          },
          "metadata": {}
        }
      ]
    },
    {
      "cell_type": "markdown",
      "source": [
        "Grâce à la méthode du coude basée sur le score de distortion (somme moyenne des carrés des distances aux centres), une segementation en K=4 clusters serait la meilleure option."
      ],
      "metadata": {
        "id": "3Vi4fqabdWIL"
      }
    },
    {
      "cell_type": "markdown",
      "source": [
        "Pour vérifier si ce clustering fonctionne, nous allons utiliser SilhouetteVisualizer pour afficher le coefficient de silhouette pour un échantillonage de chaque cluster.  \n",
        "Le score de chaque échantillon est calculé en faisant la moyenne du coefficient de silhouette (différence entre la distance moyenne intra-cluster et la distance moyenne du cluster le plus proche pour chaque échantillon), normalisée par la valeur maximale. Cela nous donne un score entre -1 et 1, qui nous permet de déterminer si la séparation est efficace ou si les points sont assignés au mauvais cluster."
      ],
      "metadata": {
        "id": "Iib0lLp_dqEl"
      }
    },
    {
      "cell_type": "code",
      "source": [
        "K = kmeans_visualizer.named_steps['kelbowvisualizer'].elbow_value_\n",
        "\n",
        "# Silhouette Visualizer\n",
        "silhouette_visualizer = Pipeline([\n",
        "    (\"preprocessor\", preprocessor),\n",
        "    (\"silhouettevisualizer\", SilhouetteVisualizer(KMeans(K)))])\n",
        "silhouette_visualizer.fit(X_rfm)\n",
        "silhouette_visualizer.named_steps['silhouettevisualizer'].show(outpath=\"../images/olist/silhouette-rfm.png\")"
      ],
      "metadata": {
        "colab": {
          "base_uri": "https://localhost:8080/",
          "height": 393
        },
        "id": "1RJ8DJ4rdVn8",
        "outputId": "92ec09fe-54e3-44d9-ebdd-8a0f5bb8a6a3"
      },
      "execution_count": null,
      "outputs": [
        {
          "output_type": "execute_result",
          "data": {
            "text/plain": [
              "<matplotlib.axes._subplots.AxesSubplot at 0x7f70f0f78430>"
            ]
          },
          "metadata": {},
          "execution_count": 11
        },
        {
          "output_type": "display_data",
          "data": {
            "text/plain": [
              "<Figure size 576x396 with 1 Axes>"
            ],
            "image/png": "[encoded data removed]"
          },
          "metadata": {}
        }
      ]
    },
    {
      "cell_type": "markdown",
      "source": [
        "Nous allons maintenant calculer les distances intercluster"
      ],
      "metadata": {
        "id": "g0V2djugYn6A"
      }
    },
    {
      "cell_type": "code",
      "source": [
        "# Intercluster distance Map with best k\n",
        "distance_visualizer = Pipeline([\n",
        "    (\"preprocessor\", preprocessor),\n",
        "    (\"distancevisualizer\", InterclusterDistance(KMeans(K)))])\n",
        "distance_visualizer.fit(X_rfm)\n",
        "distance_visualizer.named_steps['distancevisualizer'].show(outpath=\"../images/olist/intercluster-distance-rfm.png\")"
      ],
      "metadata": {
        "colab": {
          "base_uri": "https://localhost:8080/",
          "height": 383
        },
        "id": "kOzVvWTTYoXC",
        "outputId": "d5a18b36-c586-41f4-d52f-29e2639d5fe4"
      },
      "execution_count": null,
      "outputs": [
        {
          "output_type": "execute_result",
          "data": {
            "text/plain": [
              "<matplotlib.axes._subplots.AxesSubplot at 0x7f70d80b3b50>"
            ]
          },
          "metadata": {},
          "execution_count": 12
        },
        {
          "output_type": "display_data",
          "data": {
            "text/plain": [
              "<Figure size 576x396 with 2 Axes>"
            ],
            "image/png": "[encoded data removed]"
          },
          "metadata": {}
        }
      ]
    },
    {
      "cell_type": "markdown",
      "source": [
        "Nous allons entrainer notre KMeans avec le K optimal sélectionné et affecter son cluster à chaque client. Ainsi, nous pourrons analyser les différences entre chaque cluster :"
      ],
      "metadata": {
        "id": "1t5f-GKMZBqM"
      }
    },
    {
      "cell_type": "code",
      "source": [
        "# KMeans Pipeline with best K\n",
        "kmeans_model = Pipeline([(\"preprocessor\", preprocessor),\n",
        "                         (\"kmeans\", KMeans(K))])\n",
        "kmeans_model.fit(X_rfm)\n",
        "\n",
        "# Kmeans labels\n",
        "kmeans_labels = kmeans_model.named_steps['kmeans'].labels_\n",
        "data_rfm[\"kmeans_label\"] = kmeans_labels"
      ],
      "metadata": {
        "id": "xDQWZrFsavb4"
      },
      "execution_count": null,
      "outputs": []
    },
    {
      "cell_type": "markdown",
      "source": [
        "Nous allons dans un premier temps grouper les individus par cluster pour analyser les moyennes :"
      ],
      "metadata": {
        "id": "_Nt1VnXMbPhw"
      }
    },
    {
      "cell_type": "code",
      "source": [
        "kmeans_clusters_means = data_rfm.groupby(\"kmeans_label\").mean().reset_index()\n",
        "kmeans_clusters_means"
      ],
      "metadata": {
        "colab": {
          "base_uri": "https://localhost:8080/",
          "height": 175
        },
        "id": "eOsHpKYubP6W",
        "outputId": "2fc624dc-cf13-40f6-c4ec-dbf3dfee82ee"
      },
      "execution_count": null,
      "outputs": [
        {
          "output_type": "execute_result",
          "data": {
            "text/plain": [
              "   kmeans_label     r_score   f_score      m_score\n",
              "0             0  377.056681  1.014489   126.112486\n",
              "1             1  229.338545  3.865091   285.345940\n",
              "2             2  239.723940  1.162986  1155.679232\n",
              "3             3  125.762388  1.104569   132.154513"
            ],
            "text/html": [
              "\n",
              "  <div id=\"df-a18d2993-62bd-489b-877d-beb95bdca4dd\">\n",
              "    <div class=\"colab-df-container\">\n",
              "      <div>\n",
              "<style scoped>\n",
              "    .dataframe tbody tr th:only-of-type {\n",
              "        vertical-align: middle;\n",
              "    }\n",
              "\n",
              "    .dataframe tbody tr th {\n",
              "        vertical-align: top;\n",
              "    }\n",
              "\n",
              "    .dataframe thead th {\n",
              "        text-align: right;\n",
              "    }\n",
              "</style>\n",
              "<table border=\"1\" class=\"dataframe\">\n",
              "  <thead>\n",
              "    <tr style=\"text-align: right;\">\n",
              "      <th></th>\n",
              "      <th>kmeans_label</th>\n",
              "      <th>r_score</th>\n",
              "      <th>f_score</th>\n",
              "      <th>m_score</th>\n",
              "    </tr>\n",
              "  </thead>\n",
              "  <tbody>\n",
              "    <tr>\n",
              "      <th>0</th>\n",
              "      <td>0</td>\n",
              "      <td>377.056681</td>\n",
              "      <td>1.014489</td>\n",
              "      <td>126.112486</td>\n",
              "    </tr>\n",
              "    <tr>\n",
              "      <th>1</th>\n",
              "      <td>1</td>\n",
              "      <td>229.338545</td>\n",
              "      <td>3.865091</td>\n",
              "      <td>285.345940</td>\n",
              "    </tr>\n",
              "    <tr>\n",
              "      <th>2</th>\n",
              "      <td>2</td>\n",
              "      <td>239.723940</td>\n",
              "      <td>1.162986</td>\n",
              "      <td>1155.679232</td>\n",
              "    </tr>\n",
              "    <tr>\n",
              "      <th>3</th>\n",
              "      <td>3</td>\n",
              "      <td>125.762388</td>\n",
              "      <td>1.104569</td>\n",
              "      <td>132.154513</td>\n",
              "    </tr>\n",
              "  </tbody>\n",
              "</table>\n",
              "</div>\n",
              "      <button class=\"colab-df-convert\" onclick=\"convertToInteractive('df-a18d2993-62bd-489b-877d-beb95bdca4dd')\"\n",
              "              title=\"Convert this dataframe to an interactive table.\"\n",
              "              style=\"display:none;\">\n",
              "        \n",
              "  <svg xmlns=\"http://www.w3.org/2000/svg\" height=\"24px\"viewBox=\"0 0 24 24\"\n",
              "       width=\"24px\">\n",
              "    <path d=\"M0 0h24v24H0V0z\" fill=\"none\"/>\n",
              "    <path d=\"M18.56 5.44l.94 2.06.94-2.06 2.06-.94-2.06-.94-.94-2.06-.94 2.06-2.06.94zm-11 1L8.5 8.5l.94-2.06 2.06-.94-2.06-.94L8.5 2.5l-.94 2.06-2.06.94zm10 10l.94 2.06.94-2.06 2.06-.94-2.06-.94-.94-2.06-.94 2.06-2.06.94z\"/><path d=\"M17.41 7.96l-1.37-1.37c-.4-.4-.92-.59-1.43-.59-.52 0-1.04.2-1.43.59L10.3 9.45l-7.72 7.72c-.78.78-.78 2.05 0 2.83L4 21.41c.39.39.9.59 1.41.59.51 0 1.02-.2 1.41-.59l7.78-7.78 2.81-2.81c.8-.78.8-2.07 0-2.86zM5.41 20L4 18.59l7.72-7.72 1.47 1.35L5.41 20z\"/>\n",
              "  </svg>\n",
              "      </button>\n",
              "      \n",
              "  <style>\n",
              "    .colab-df-container {\n",
              "      display:flex;\n",
              "      flex-wrap:wrap;\n",
              "      gap: 12px;\n",
              "    }\n",
              "\n",
              "    .colab-df-convert {\n",
              "      background-color: #E8F0FE;\n",
              "      border: none;\n",
              "      border-radius: 50%;\n",
              "      cursor: pointer;\n",
              "      display: none;\n",
              "      fill: #1967D2;\n",
              "      height: 32px;\n",
              "      padding: 0 0 0 0;\n",
              "      width: 32px;\n",
              "    }\n",
              "\n",
              "    .colab-df-convert:hover {\n",
              "      background-color: #E2EBFA;\n",
              "      box-shadow: 0px 1px 2px rgba(60, 64, 67, 0.3), 0px 1px 3px 1px rgba(60, 64, 67, 0.15);\n",
              "      fill: #174EA6;\n",
              "    }\n",
              "\n",
              "    [theme=dark] .colab-df-convert {\n",
              "      background-color: #3B4455;\n",
              "      fill: #D2E3FC;\n",
              "    }\n",
              "\n",
              "    [theme=dark] .colab-df-convert:hover {\n",
              "      background-color: #434B5C;\n",
              "      box-shadow: 0px 1px 3px 1px rgba(0, 0, 0, 0.15);\n",
              "      filter: drop-shadow(0px 1px 2px rgba(0, 0, 0, 0.3));\n",
              "      fill: #FFFFFF;\n",
              "    }\n",
              "  </style>\n",
              "\n",
              "      <script>\n",
              "        const buttonEl =\n",
              "          document.querySelector('#df-a18d2993-62bd-489b-877d-beb95bdca4dd button.colab-df-convert');\n",
              "        buttonEl.style.display =\n",
              "          google.colab.kernel.accessAllowed ? 'block' : 'none';\n",
              "\n",
              "        async function convertToInteractive(key) {\n",
              "          const element = document.querySelector('#df-a18d2993-62bd-489b-877d-beb95bdca4dd');\n",
              "          const dataTable =\n",
              "            await google.colab.kernel.invokeFunction('convertToInteractive',\n",
              "                                                     [key], {});\n",
              "          if (!dataTable) return;\n",
              "\n",
              "          const docLinkHtml = 'Like what you see? Visit the ' +\n",
              "            '<a target=\"_blank\" href=https://colab.research.google.com/notebooks/data_table.ipynb>data table notebook</a>'\n",
              "            + ' to learn more about interactive tables.';\n",
              "          element.innerHTML = '';\n",
              "          dataTable['output_type'] = 'display_data';\n",
              "          await google.colab.output.renderOutput(dataTable, element);\n",
              "          const docLink = document.createElement('div');\n",
              "          docLink.innerHTML = docLinkHtml;\n",
              "          element.appendChild(docLink);\n",
              "        }\n",
              "      </script>\n",
              "    </div>\n",
              "  </div>\n",
              "  "
            ]
          },
          "metadata": {},
          "execution_count": 14
        }
      ]
    },
    {
      "cell_type": "markdown",
      "source": [
        "**Interpretation**\n",
        "* Groupe 0 : Les clients ont passé en moyenne une commande par an avec un panier moyen de 126\n",
        "* Groupe 1 : Les clients ont passé en moyenne une commande sur les 4 derniers mois avec un panier moyen de 132\n",
        "* Groupe 2 : Les clients ont passé en moyenne 4 commandes sur les 8 derniers mois avec un panier moyen de 285\n",
        "* Groupe 3 : Les clients ont passé en moyenne une commande sur les 8 derniers mois avec un panier moyen de 1155\n"
      ],
      "metadata": {
        "id": "8ddkSiEhn2y6"
      }
    },
    {
      "cell_type": "markdown",
      "source": [
        "**Boxplot par label**"
      ],
      "metadata": {
        "id": "5OZ12vmKJsvp"
      }
    },
    {
      "cell_type": "code",
      "source": [
        "fig = plt.figure(figsize=(12,8))\n",
        "sns.boxplot(data=data_rfm, x=\"kmeans_label\", y=\"r_score\")\n",
        "plt.title(\"Récence\", fontsize=18, color=\"b\")\n",
        "plt.savefig(\"../images/olist/box-recence.png\")\n",
        "plt.show()"
      ],
      "metadata": {
        "colab": {
          "base_uri": "https://localhost:8080/",
          "height": 516
        },
        "id": "djTU15rjOsFr",
        "outputId": "42d41274-57bd-4b02-ad2e-9a8fee9d7e59"
      },
      "execution_count": null,
      "outputs": [
        {
          "output_type": "display_data",
          "data": {
            "text/plain": [
              "<Figure size 864x576 with 1 Axes>"
            ],
            "image/png": "[encoded data removed]"
          },
          "metadata": {}
        }
      ]
    },
    {
      "cell_type": "code",
      "source": [
        "fig = plt.figure(figsize=(12,8))\n",
        "sns.boxplot(data=data_rfm, x=\"kmeans_label\", y=\"f_score\")\n",
        "plt.title(\"Fréquence\", fontsize=18, color=\"b\")\n",
        "plt.savefig(\"../images/olist/box-frequence.png\")\n",
        "plt.show()"
      ],
      "metadata": {
        "colab": {
          "base_uri": "https://localhost:8080/",
          "height": 516
        },
        "id": "ttDJ4kalRq1n",
        "outputId": "22c847c6-a391-44a4-8a20-1055485230fa"
      },
      "execution_count": null,
      "outputs": [
        {
          "output_type": "display_data",
          "data": {
            "text/plain": [
              "<Figure size 864x576 with 1 Axes>"
            ],
            "image/png": "[encoded data removed]"
          },
          "metadata": {}
        }
      ]
    },
    {
      "cell_type": "code",
      "source": [
        "fig = plt.figure(figsize=(12,8))\n",
        "sns.boxplot(data=data_rfm, x=\"kmeans_label\", y=\"m_score\")\n",
        "plt.title(\"Montant\", fontsize=18, color=\"b\")\n",
        "plt.savefig(\"../images/olist/box-montant.png\")\n",
        "plt.show()"
      ],
      "metadata": {
        "colab": {
          "base_uri": "https://localhost:8080/",
          "height": 516
        },
        "id": "Bo3pAsLdRrpT",
        "outputId": "b9d1290f-53ca-43b3-a3fa-16283d9301a8"
      },
      "execution_count": null,
      "outputs": [
        {
          "output_type": "display_data",
          "data": {
            "text/plain": [
              "<Figure size 864x576 with 1 Axes>"
            ],
            "image/png": "[encoded data removed]"
          },
          "metadata": {}
        }
      ]
    },
    {
      "cell_type": "code",
      "source": [
        "X_rfm_scaled = preprocessor.fit_transform(X_rfm)\n",
        "X_rfm_scaled = pd.DataFrame(X_rfm_scaled, index=X_rfm.index, columns=numerical_features)\n",
        "X_rfm_scaled[\"kmeans_label\"] = kmeans_labels\n",
        "X_rfm_scaled_clusters = X_rfm_scaled.groupby(\"kmeans_label\").mean()\n",
        "X_rfm_scaled_clusters"
      ],
      "metadata": {
        "colab": {
          "base_uri": "https://localhost:8080/",
          "height": 206
        },
        "id": "xM1XuigibkO6",
        "outputId": "2ed01f7d-6263-4189-9b3d-26c5c0489609"
      },
      "execution_count": null,
      "outputs": [
        {
          "output_type": "execute_result",
          "data": {
            "text/plain": [
              "               r_score   f_score   m_score\n",
              "kmeans_label                              \n",
              "0             0.923191 -0.205734 -0.147345\n",
              "1            -0.058058  4.229844  0.586418\n",
              "2             0.010930  0.025329  4.596999\n",
              "3            -0.746084 -0.065568 -0.119503"
            ],
            "text/html": [
              "\n",
              "  <div id=\"df-bf6e5119-305a-42c3-95c1-7684f1a5cc09\">\n",
              "    <div class=\"colab-df-container\">\n",
              "      <div>\n",
              "<style scoped>\n",
              "    .dataframe tbody tr th:only-of-type {\n",
              "        vertical-align: middle;\n",
              "    }\n",
              "\n",
              "    .dataframe tbody tr th {\n",
              "        vertical-align: top;\n",
              "    }\n",
              "\n",
              "    .dataframe thead th {\n",
              "        text-align: right;\n",
              "    }\n",
              "</style>\n",
              "<table border=\"1\" class=\"dataframe\">\n",
              "  <thead>\n",
              "    <tr style=\"text-align: right;\">\n",
              "      <th></th>\n",
              "      <th>r_score</th>\n",
              "      <th>f_score</th>\n",
              "      <th>m_score</th>\n",
              "    </tr>\n",
              "    <tr>\n",
              "      <th>kmeans_label</th>\n",
              "      <th></th>\n",
              "      <th></th>\n",
              "      <th></th>\n",
              "    </tr>\n",
              "  </thead>\n",
              "  <tbody>\n",
              "    <tr>\n",
              "      <th>0</th>\n",
              "      <td>0.923191</td>\n",
              "      <td>-0.205734</td>\n",
              "      <td>-0.147345</td>\n",
              "    </tr>\n",
              "    <tr>\n",
              "      <th>1</th>\n",
              "      <td>-0.058058</td>\n",
              "      <td>4.229844</td>\n",
              "      <td>0.586418</td>\n",
              "    </tr>\n",
              "    <tr>\n",
              "      <th>2</th>\n",
              "      <td>0.010930</td>\n",
              "      <td>0.025329</td>\n",
              "      <td>4.596999</td>\n",
              "    </tr>\n",
              "    <tr>\n",
              "      <th>3</th>\n",
              "      <td>-0.746084</td>\n",
              "      <td>-0.065568</td>\n",
              "      <td>-0.119503</td>\n",
              "    </tr>\n",
              "  </tbody>\n",
              "</table>\n",
              "</div>\n",
              "      <button class=\"colab-df-convert\" onclick=\"convertToInteractive('df-bf6e5119-305a-42c3-95c1-7684f1a5cc09')\"\n",
              "              title=\"Convert this dataframe to an interactive table.\"\n",
              "              style=\"display:none;\">\n",
              "        \n",
              "  <svg xmlns=\"http://www.w3.org/2000/svg\" height=\"24px\"viewBox=\"0 0 24 24\"\n",
              "       width=\"24px\">\n",
              "    <path d=\"M0 0h24v24H0V0z\" fill=\"none\"/>\n",
              "    <path d=\"M18.56 5.44l.94 2.06.94-2.06 2.06-.94-2.06-.94-.94-2.06-.94 2.06-2.06.94zm-11 1L8.5 8.5l.94-2.06 2.06-.94-2.06-.94L8.5 2.5l-.94 2.06-2.06.94zm10 10l.94 2.06.94-2.06 2.06-.94-2.06-.94-.94-2.06-.94 2.06-2.06.94z\"/><path d=\"M17.41 7.96l-1.37-1.37c-.4-.4-.92-.59-1.43-.59-.52 0-1.04.2-1.43.59L10.3 9.45l-7.72 7.72c-.78.78-.78 2.05 0 2.83L4 21.41c.39.39.9.59 1.41.59.51 0 1.02-.2 1.41-.59l7.78-7.78 2.81-2.81c.8-.78.8-2.07 0-2.86zM5.41 20L4 18.59l7.72-7.72 1.47 1.35L5.41 20z\"/>\n",
              "  </svg>\n",
              "      </button>\n",
              "      \n",
              "  <style>\n",
              "    .colab-df-container {\n",
              "      display:flex;\n",
              "      flex-wrap:wrap;\n",
              "      gap: 12px;\n",
              "    }\n",
              "\n",
              "    .colab-df-convert {\n",
              "      background-color: #E8F0FE;\n",
              "      border: none;\n",
              "      border-radius: 50%;\n",
              "      cursor: pointer;\n",
              "      display: none;\n",
              "      fill: #1967D2;\n",
              "      height: 32px;\n",
              "      padding: 0 0 0 0;\n",
              "      width: 32px;\n",
              "    }\n",
              "\n",
              "    .colab-df-convert:hover {\n",
              "      background-color: #E2EBFA;\n",
              "      box-shadow: 0px 1px 2px rgba(60, 64, 67, 0.3), 0px 1px 3px 1px rgba(60, 64, 67, 0.15);\n",
              "      fill: #174EA6;\n",
              "    }\n",
              "\n",
              "    [theme=dark] .colab-df-convert {\n",
              "      background-color: #3B4455;\n",
              "      fill: #D2E3FC;\n",
              "    }\n",
              "\n",
              "    [theme=dark] .colab-df-convert:hover {\n",
              "      background-color: #434B5C;\n",
              "      box-shadow: 0px 1px 3px 1px rgba(0, 0, 0, 0.15);\n",
              "      filter: drop-shadow(0px 1px 2px rgba(0, 0, 0, 0.3));\n",
              "      fill: #FFFFFF;\n",
              "    }\n",
              "  </style>\n",
              "\n",
              "      <script>\n",
              "        const buttonEl =\n",
              "          document.querySelector('#df-bf6e5119-305a-42c3-95c1-7684f1a5cc09 button.colab-df-convert');\n",
              "        buttonEl.style.display =\n",
              "          google.colab.kernel.accessAllowed ? 'block' : 'none';\n",
              "\n",
              "        async function convertToInteractive(key) {\n",
              "          const element = document.querySelector('#df-bf6e5119-305a-42c3-95c1-7684f1a5cc09');\n",
              "          const dataTable =\n",
              "            await google.colab.kernel.invokeFunction('convertToInteractive',\n",
              "                                                     [key], {});\n",
              "          if (!dataTable) return;\n",
              "\n",
              "          const docLinkHtml = 'Like what you see? Visit the ' +\n",
              "            '<a target=\"_blank\" href=https://colab.research.google.com/notebooks/data_table.ipynb>data table notebook</a>'\n",
              "            + ' to learn more about interactive tables.';\n",
              "          element.innerHTML = '';\n",
              "          dataTable['output_type'] = 'display_data';\n",
              "          await google.colab.output.renderOutput(dataTable, element);\n",
              "          const docLink = document.createElement('div');\n",
              "          docLink.innerHTML = docLinkHtml;\n",
              "          element.appendChild(docLink);\n",
              "        }\n",
              "      </script>\n",
              "    </div>\n",
              "  </div>\n",
              "  "
            ]
          },
          "metadata": {},
          "execution_count": 18
        }
      ]
    },
    {
      "cell_type": "markdown",
      "source": [
        "Projetons à présent ces différentes moyennes sur un Radar plot avec la librairie Plotly pour visualiser les différences entre cluster :"
      ],
      "metadata": {
        "id": "Hfd6Zpjrb2eO"
      }
    },
    {
      "cell_type": "code",
      "source": [
        "!pip install -U kaleido"
      ],
      "metadata": {
        "colab": {
          "base_uri": "https://localhost:8080/"
        },
        "id": "PKgBiTuP4F_8",
        "outputId": "4f8ed63b-cd81-4f2c-cf87-ce670092007d"
      },
      "execution_count": null,
      "outputs": [
        {
          "output_type": "stream",
          "name": "stdout",
          "text": [
            "Looking in indexes: https://pypi.org/simple, https://us-python.pkg.dev/colab-wheels/public/simple/\n",
            "Collecting kaleido\n",
            "  Downloading kaleido-0.2.1-py2.py3-none-manylinux1_x86_64.whl (79.9 MB)\n",
            "\u001b[2K     \u001b[90m━━━━━━━━━━━━━━━━━━━━━━━━━━━━━━━━━━━━━━━━\u001b[0m \u001b[32m79.9/79.9 MB\u001b[0m \u001b[31m9.0 MB/s\u001b[0m eta \u001b[36m0:00:00\u001b[0m\n",
            "\u001b[?25hInstalling collected packages: kaleido\n",
            "Successfully installed kaleido-0.2.1\n"
          ]
        }
      ]
    },
    {
      "cell_type": "code",
      "source": [
        "def plot_radars(data, group, outpath):\n",
        "\n",
        "    scaler = MinMaxScaler()\n",
        "    data = pd.DataFrame(scaler.fit_transform(data),\n",
        "                        index=data.index,\n",
        "                        columns=data.columns).reset_index()\n",
        "\n",
        "    fig = go.Figure()\n",
        "\n",
        "    for k in data[group]:\n",
        "        fig.add_trace(go.Scatterpolar(\n",
        "            r=data[data[group]==k].iloc[:,1:].values.reshape(-1),\n",
        "            theta=data.columns[1:],\n",
        "            fill='toself',\n",
        "            name='Cluster '+str(k)\n",
        "        ))\n",
        "    fig.update_layout(\n",
        "        polar=dict(\n",
        "        radialaxis=dict(\n",
        "          visible=True,\n",
        "          range=[0, 1]\n",
        "        )),\n",
        "        showlegend=True,\n",
        "        title={\n",
        "            'text': \"Comparaison des moyennes par variable des clusters\",\n",
        "            'y':0.95,\n",
        "            'x':0.5,\n",
        "            'xanchor': 'center',\n",
        "            'yanchor': 'top'},\n",
        "        title_font_color=\"blue\",\n",
        "        title_font_size=18)\n",
        "\n",
        "    fig.show()\n",
        "    fig.write_image(outpath)"
      ],
      "metadata": {
        "id": "Mud1U5DecZg-"
      },
      "execution_count": null,
      "outputs": []
    },
    {
      "cell_type": "code",
      "source": [
        "plot_radars(data=X_rfm_scaled_clusters,\n",
        "            group=\"kmeans_label\",outpath=\"../images/olist/radar-rfm.png\")"
      ],
      "metadata": {
        "colab": {
          "base_uri": "https://localhost:8080/",
          "height": 542
        },
        "id": "Nx3iaaVMch8T",
        "outputId": "fc5e1038-3701-44d6-de9b-f80d8e081c80"
      },
      "execution_count": null,
      "outputs": [
        {
          "output_type": "display_data",
          "data": {
            "text/html": [
              "<html>\n",
              "<head><meta charset=\"utf-8\" /></head>\n",
              "<body>\n",
              "    <div>            <script src=\"https://cdnjs.cloudflare.com/ajax/libs/mathjax/2.7.5/MathJax.js?config=TeX-AMS-MML_SVG\"></script><script type=\"text/javascript\">if (window.MathJax) {MathJax.Hub.Config({SVG: {font: \"STIX-Web\"}});}</script>                <script type=\"text/javascript\">window.PlotlyConfig = {MathJaxConfig: 'local'};</script>\n",
              "        <script src=\"https://cdn.plot.ly/plotly-2.8.3.min.js\"></script>                <div id=\"592197bf-a7f7-4a57-ab0b-48abbddab441\" class=\"plotly-graph-div\" style=\"height:525px; width:100%;\"></div>            <script type=\"text/javascript\">                                    window.PLOTLYENV=window.PLOTLYENV || {};                                    if (document.getElementById(\"592197bf-a7f7-4a57-ab0b-48abbddab441\")) {                    Plotly.newPlot(                        \"592197bf-a7f7-4a57-ab0b-48abbddab441\",                        [{\"fill\":\"toself\",\"name\":\"Cluster 0\",\"r\":[1.0,0.0,0.0],\"theta\":[\"r_score\",\"f_score\",\"m_score\"],\"type\":\"scatterpolar\"},{\"fill\":\"toself\",\"name\":\"Cluster 1\",\"r\":[0.0,0.03158947288860015,0.005832329700611771],\"theta\":[\"r_score\",\"f_score\",\"m_score\"],\"type\":\"scatterpolar\"},{\"fill\":\"toself\",\"name\":\"Cluster 2\",\"r\":[0.4524269751510702,0.05230172373142831,1.0],\"theta\":[\"r_score\",\"f_score\",\"m_score\"],\"type\":\"scatterpolar\"},{\"fill\":\"toself\",\"name\":\"Cluster 3\",\"r\":[0.41216372614038466,1.0,0.15479099181627318],\"theta\":[\"r_score\",\"f_score\",\"m_score\"],\"type\":\"scatterpolar\"}],                        {\"template\":{\"data\":{\"bar\":[{\"error_x\":{\"color\":\"#2a3f5f\"},\"error_y\":{\"color\":\"#2a3f5f\"},\"marker\":{\"line\":{\"color\":\"#E5ECF6\",\"width\":0.5},\"pattern\":{\"fillmode\":\"overlay\",\"size\":10,\"solidity\":0.2}},\"type\":\"bar\"}],\"barpolar\":[{\"marker\":{\"line\":{\"color\":\"#E5ECF6\",\"width\":0.5},\"pattern\":{\"fillmode\":\"overlay\",\"size\":10,\"solidity\":0.2}},\"type\":\"barpolar\"}],\"carpet\":[{\"aaxis\":{\"endlinecolor\":\"#2a3f5f\",\"gridcolor\":\"white\",\"linecolor\":\"white\",\"minorgridcolor\":\"white\",\"startlinecolor\":\"#2a3f5f\"},\"baxis\":{\"endlinecolor\":\"#2a3f5f\",\"gridcolor\":\"white\",\"linecolor\":\"white\",\"minorgridcolor\":\"white\",\"startlinecolor\":\"#2a3f5f\"},\"type\":\"carpet\"}],\"choropleth\":[{\"colorbar\":{\"outlinewidth\":0,\"ticks\":\"\"},\"type\":\"choropleth\"}],\"contour\":[{\"colorbar\":{\"outlinewidth\":0,\"ticks\":\"\"},\"colorscale\":[[0.0,\"#0d0887\"],[0.1111111111111111,\"#46039f\"],[0.2222222222222222,\"#7201a8\"],[0.3333333333333333,\"#9c179e\"],[0.4444444444444444,\"#bd3786\"],[0.5555555555555556,\"#d8576b\"],[0.6666666666666666,\"#ed7953\"],[0.7777777777777778,\"#fb9f3a\"],[0.8888888888888888,\"#fdca26\"],[1.0,\"#f0f921\"]],\"type\":\"contour\"}],\"contourcarpet\":[{\"colorbar\":{\"outlinewidth\":0,\"ticks\":\"\"},\"type\":\"contourcarpet\"}],\"heatmap\":[{\"colorbar\":{\"outlinewidth\":0,\"ticks\":\"\"},\"colorscale\":[[0.0,\"#0d0887\"],[0.1111111111111111,\"#46039f\"],[0.2222222222222222,\"#7201a8\"],[0.3333333333333333,\"#9c179e\"],[0.4444444444444444,\"#bd3786\"],[0.5555555555555556,\"#d8576b\"],[0.6666666666666666,\"#ed7953\"],[0.7777777777777778,\"#fb9f3a\"],[0.8888888888888888,\"#fdca26\"],[1.0,\"#f0f921\"]],\"type\":\"heatmap\"}],\"heatmapgl\":[{\"colorbar\":{\"outlinewidth\":0,\"ticks\":\"\"},\"colorscale\":[[0.0,\"#0d0887\"],[0.1111111111111111,\"#46039f\"],[0.2222222222222222,\"#7201a8\"],[0.3333333333333333,\"#9c179e\"],[0.4444444444444444,\"#bd3786\"],[0.5555555555555556,\"#d8576b\"],[0.6666666666666666,\"#ed7953\"],[0.7777777777777778,\"#fb9f3a\"],[0.8888888888888888,\"#fdca26\"],[1.0,\"#f0f921\"]],\"type\":\"heatmapgl\"}],\"histogram\":[{\"marker\":{\"pattern\":{\"fillmode\":\"overlay\",\"size\":10,\"solidity\":0.2}},\"type\":\"histogram\"}],\"histogram2d\":[{\"colorbar\":{\"outlinewidth\":0,\"ticks\":\"\"},\"colorscale\":[[0.0,\"#0d0887\"],[0.1111111111111111,\"#46039f\"],[0.2222222222222222,\"#7201a8\"],[0.3333333333333333,\"#9c179e\"],[0.4444444444444444,\"#bd3786\"],[0.5555555555555556,\"#d8576b\"],[0.6666666666666666,\"#ed7953\"],[0.7777777777777778,\"#fb9f3a\"],[0.8888888888888888,\"#fdca26\"],[1.0,\"#f0f921\"]],\"type\":\"histogram2d\"}],\"histogram2dcontour\":[{\"colorbar\":{\"outlinewidth\":0,\"ticks\":\"\"},\"colorscale\":[[0.0,\"#0d0887\"],[0.1111111111111111,\"#46039f\"],[0.2222222222222222,\"#7201a8\"],[0.3333333333333333,\"#9c179e\"],[0.4444444444444444,\"#bd3786\"],[0.5555555555555556,\"#d8576b\"],[0.6666666666666666,\"#ed7953\"],[0.7777777777777778,\"#fb9f3a\"],[0.8888888888888888,\"#fdca26\"],[1.0,\"#f0f921\"]],\"type\":\"histogram2dcontour\"}],\"mesh3d\":[{\"colorbar\":{\"outlinewidth\":0,\"ticks\":\"\"},\"type\":\"mesh3d\"}],\"parcoords\":[{\"line\":{\"colorbar\":{\"outlinewidth\":0,\"ticks\":\"\"}},\"type\":\"parcoords\"}],\"pie\":[{\"automargin\":true,\"type\":\"pie\"}],\"scatter\":[{\"marker\":{\"colorbar\":{\"outlinewidth\":0,\"ticks\":\"\"}},\"type\":\"scatter\"}],\"scatter3d\":[{\"line\":{\"colorbar\":{\"outlinewidth\":0,\"ticks\":\"\"}},\"marker\":{\"colorbar\":{\"outlinewidth\":0,\"ticks\":\"\"}},\"type\":\"scatter3d\"}],\"scattercarpet\":[{\"marker\":{\"colorbar\":{\"outlinewidth\":0,\"ticks\":\"\"}},\"type\":\"scattercarpet\"}],\"scattergeo\":[{\"marker\":{\"colorbar\":{\"outlinewidth\":0,\"ticks\":\"\"}},\"type\":\"scattergeo\"}],\"scattergl\":[{\"marker\":{\"colorbar\":{\"outlinewidth\":0,\"ticks\":\"\"}},\"type\":\"scattergl\"}],\"scattermapbox\":[{\"marker\":{\"colorbar\":{\"outlinewidth\":0,\"ticks\":\"\"}},\"type\":\"scattermapbox\"}],\"scatterpolar\":[{\"marker\":{\"colorbar\":{\"outlinewidth\":0,\"ticks\":\"\"}},\"type\":\"scatterpolar\"}],\"scatterpolargl\":[{\"marker\":{\"colorbar\":{\"outlinewidth\":0,\"ticks\":\"\"}},\"type\":\"scatterpolargl\"}],\"scatterternary\":[{\"marker\":{\"colorbar\":{\"outlinewidth\":0,\"ticks\":\"\"}},\"type\":\"scatterternary\"}],\"surface\":[{\"colorbar\":{\"outlinewidth\":0,\"ticks\":\"\"},\"colorscale\":[[0.0,\"#0d0887\"],[0.1111111111111111,\"#46039f\"],[0.2222222222222222,\"#7201a8\"],[0.3333333333333333,\"#9c179e\"],[0.4444444444444444,\"#bd3786\"],[0.5555555555555556,\"#d8576b\"],[0.6666666666666666,\"#ed7953\"],[0.7777777777777778,\"#fb9f3a\"],[0.8888888888888888,\"#fdca26\"],[1.0,\"#f0f921\"]],\"type\":\"surface\"}],\"table\":[{\"cells\":{\"fill\":{\"color\":\"#EBF0F8\"},\"line\":{\"color\":\"white\"}},\"header\":{\"fill\":{\"color\":\"#C8D4E3\"},\"line\":{\"color\":\"white\"}},\"type\":\"table\"}]},\"layout\":{\"annotationdefaults\":{\"arrowcolor\":\"#2a3f5f\",\"arrowhead\":0,\"arrowwidth\":1},\"autotypenumbers\":\"strict\",\"coloraxis\":{\"colorbar\":{\"outlinewidth\":0,\"ticks\":\"\"}},\"colorscale\":{\"diverging\":[[0,\"#8e0152\"],[0.1,\"#c51b7d\"],[0.2,\"#de77ae\"],[0.3,\"#f1b6da\"],[0.4,\"#fde0ef\"],[0.5,\"#f7f7f7\"],[0.6,\"#e6f5d0\"],[0.7,\"#b8e186\"],[0.8,\"#7fbc41\"],[0.9,\"#4d9221\"],[1,\"#276419\"]],\"sequential\":[[0.0,\"#0d0887\"],[0.1111111111111111,\"#46039f\"],[0.2222222222222222,\"#7201a8\"],[0.3333333333333333,\"#9c179e\"],[0.4444444444444444,\"#bd3786\"],[0.5555555555555556,\"#d8576b\"],[0.6666666666666666,\"#ed7953\"],[0.7777777777777778,\"#fb9f3a\"],[0.8888888888888888,\"#fdca26\"],[1.0,\"#f0f921\"]],\"sequentialminus\":[[0.0,\"#0d0887\"],[0.1111111111111111,\"#46039f\"],[0.2222222222222222,\"#7201a8\"],[0.3333333333333333,\"#9c179e\"],[0.4444444444444444,\"#bd3786\"],[0.5555555555555556,\"#d8576b\"],[0.6666666666666666,\"#ed7953\"],[0.7777777777777778,\"#fb9f3a\"],[0.8888888888888888,\"#fdca26\"],[1.0,\"#f0f921\"]]},\"colorway\":[\"#636efa\",\"#EF553B\",\"#00cc96\",\"#ab63fa\",\"#FFA15A\",\"#19d3f3\",\"#FF6692\",\"#B6E880\",\"#FF97FF\",\"#FECB52\"],\"font\":{\"color\":\"#2a3f5f\"},\"geo\":{\"bgcolor\":\"white\",\"lakecolor\":\"white\",\"landcolor\":\"#E5ECF6\",\"showlakes\":true,\"showland\":true,\"subunitcolor\":\"white\"},\"hoverlabel\":{\"align\":\"left\"},\"hovermode\":\"closest\",\"mapbox\":{\"style\":\"light\"},\"paper_bgcolor\":\"white\",\"plot_bgcolor\":\"#E5ECF6\",\"polar\":{\"angularaxis\":{\"gridcolor\":\"white\",\"linecolor\":\"white\",\"ticks\":\"\"},\"bgcolor\":\"#E5ECF6\",\"radialaxis\":{\"gridcolor\":\"white\",\"linecolor\":\"white\",\"ticks\":\"\"}},\"scene\":{\"xaxis\":{\"backgroundcolor\":\"#E5ECF6\",\"gridcolor\":\"white\",\"gridwidth\":2,\"linecolor\":\"white\",\"showbackground\":true,\"ticks\":\"\",\"zerolinecolor\":\"white\"},\"yaxis\":{\"backgroundcolor\":\"#E5ECF6\",\"gridcolor\":\"white\",\"gridwidth\":2,\"linecolor\":\"white\",\"showbackground\":true,\"ticks\":\"\",\"zerolinecolor\":\"white\"},\"zaxis\":{\"backgroundcolor\":\"#E5ECF6\",\"gridcolor\":\"white\",\"gridwidth\":2,\"linecolor\":\"white\",\"showbackground\":true,\"ticks\":\"\",\"zerolinecolor\":\"white\"}},\"shapedefaults\":{\"line\":{\"color\":\"#2a3f5f\"}},\"ternary\":{\"aaxis\":{\"gridcolor\":\"white\",\"linecolor\":\"white\",\"ticks\":\"\"},\"baxis\":{\"gridcolor\":\"white\",\"linecolor\":\"white\",\"ticks\":\"\"},\"bgcolor\":\"#E5ECF6\",\"caxis\":{\"gridcolor\":\"white\",\"linecolor\":\"white\",\"ticks\":\"\"}},\"title\":{\"x\":0.05},\"xaxis\":{\"automargin\":true,\"gridcolor\":\"white\",\"linecolor\":\"white\",\"ticks\":\"\",\"title\":{\"standoff\":15},\"zerolinecolor\":\"white\",\"zerolinewidth\":2},\"yaxis\":{\"automargin\":true,\"gridcolor\":\"white\",\"linecolor\":\"white\",\"ticks\":\"\",\"title\":{\"standoff\":15},\"zerolinecolor\":\"white\",\"zerolinewidth\":2}}},\"polar\":{\"radialaxis\":{\"visible\":true,\"range\":[0,1]}},\"title\":{\"font\":{\"color\":\"blue\",\"size\":18},\"text\":\"Comparaison des moyennes par variable des clusters\",\"y\":0.95,\"x\":0.5,\"xanchor\":\"center\",\"yanchor\":\"top\"},\"showlegend\":true},                        {\"responsive\": true}                    ).then(function(){\n",
              "                            \n",
              "var gd = document.getElementById('592197bf-a7f7-4a57-ab0b-48abbddab441');\n",
              "var x = new MutationObserver(function (mutations, observer) {{\n",
              "        var display = window.getComputedStyle(gd).display;\n",
              "        if (!display || display === 'none') {{\n",
              "            console.log([gd, 'removed!']);\n",
              "            Plotly.purge(gd);\n",
              "            observer.disconnect();\n",
              "        }}\n",
              "}});\n",
              "\n",
              "// Listen for the removal of the full notebook cells\n",
              "var notebookContainer = gd.closest('#notebook-container');\n",
              "if (notebookContainer) {{\n",
              "    x.observe(notebookContainer, {childList: true});\n",
              "}}\n",
              "\n",
              "// Listen for the clearing of the current output cell\n",
              "var outputEl = gd.closest('.output');\n",
              "if (outputEl) {{\n",
              "    x.observe(outputEl, {childList: true});\n",
              "}}\n",
              "\n",
              "                        })                };                            </script>        </div>\n",
              "</body>\n",
              "</html>"
            ]
          },
          "metadata": {}
        }
      ]
    },
    {
      "cell_type": "markdown",
      "source": [
        "### **2.&nbsp;Segmentation avec le dataset global**"
      ],
      "metadata": {
        "id": "uro0Gu0tgNos"
      }
    },
    {
      "cell_type": "markdown",
      "source": [
        "### **2.1.&nbsp;Chargement des données**"
      ],
      "metadata": {
        "id": "kYPxta1agrPx"
      }
    },
    {
      "cell_type": "markdown",
      "source": [
        "Nous allons suivre la même procédure que dans la section précédente mais cette fois avec le dataset global"
      ],
      "metadata": {
        "id": "CIm7UOhdhYy4"
      }
    },
    {
      "cell_type": "code",
      "source": [
        "data = pd.read_csv('olist-customers-segmentation.csv', index_col=0)"
      ],
      "metadata": {
        "id": "aPi36NBDgsSJ"
      },
      "execution_count": null,
      "outputs": []
    },
    {
      "cell_type": "code",
      "source": [
        "data.head()"
      ],
      "metadata": {
        "colab": {
          "base_uri": "https://localhost:8080/",
          "height": 435
        },
        "id": "zLL7Im47iIfh",
        "outputId": "b869f4b8-9b09-4e13-af63-b46fa1b74d48"
      },
      "execution_count": null,
      "outputs": [
        {
          "output_type": "execute_result",
          "data": {
            "text/plain": [
              "                                  nb_orders  total_spend  \\\n",
              "customer_unique_id                                         \n",
              "0000366f3b9a7992bf8c76cfdf3221e2          1       141.90   \n",
              "0000b849f77a49e4a4ce2b2a4ca5be3f          1        27.19   \n",
              "0000f46a3911fa3c0805444483337064          1        86.22   \n",
              "0000f6ccb0745a6a4b88665a16c9f078          1        43.62   \n",
              "0004aac84e0df4da2b147fca70cf8255          1       196.89   \n",
              "\n",
              "                                  mean_payment_sequential  \\\n",
              "customer_unique_id                                          \n",
              "0000366f3b9a7992bf8c76cfdf3221e2                      1.0   \n",
              "0000b849f77a49e4a4ce2b2a4ca5be3f                      1.0   \n",
              "0000f46a3911fa3c0805444483337064                      1.0   \n",
              "0000f6ccb0745a6a4b88665a16c9f078                      1.0   \n",
              "0004aac84e0df4da2b147fca70cf8255                      1.0   \n",
              "\n",
              "                                  mean_payment_installments  \\\n",
              "customer_unique_id                                            \n",
              "0000366f3b9a7992bf8c76cfdf3221e2                        8.0   \n",
              "0000b849f77a49e4a4ce2b2a4ca5be3f                        1.0   \n",
              "0000f46a3911fa3c0805444483337064                        8.0   \n",
              "0000f6ccb0745a6a4b88665a16c9f078                        4.0   \n",
              "0004aac84e0df4da2b147fca70cf8255                        6.0   \n",
              "\n",
              "                                  mean_review_score  mean_delivery_days  \\\n",
              "customer_unique_id                                                        \n",
              "0000366f3b9a7992bf8c76cfdf3221e2                5.0                 6.0   \n",
              "0000b849f77a49e4a4ce2b2a4ca5be3f                4.0                 3.0   \n",
              "0000f46a3911fa3c0805444483337064                3.0                26.0   \n",
              "0000f6ccb0745a6a4b88665a16c9f078                4.0                20.0   \n",
              "0004aac84e0df4da2b147fca70cf8255                5.0                13.0   \n",
              "\n",
              "                                 favorite_sale_month  books_cds_media  \\\n",
              "customer_unique_id                                                      \n",
              "0000366f3b9a7992bf8c76cfdf3221e2                   1              0.0   \n",
              "0000b849f77a49e4a4ce2b2a4ca5be3f                   1              0.0   \n",
              "0000f46a3911fa3c0805444483337064                   1              0.0   \n",
              "0000f6ccb0745a6a4b88665a16c9f078                   1              0.0   \n",
              "0004aac84e0df4da2b147fca70cf8255                   1              0.0   \n",
              "\n",
              "                                  fashion_clothing_accessories  flowers_gifts  \\\n",
              "customer_unique_id                                                              \n",
              "0000366f3b9a7992bf8c76cfdf3221e2                           0.0            0.0   \n",
              "0000b849f77a49e4a4ce2b2a4ca5be3f                           0.0            0.0   \n",
              "0000f46a3911fa3c0805444483337064                           0.0            0.0   \n",
              "0000f6ccb0745a6a4b88665a16c9f078                           0.0            0.0   \n",
              "0004aac84e0df4da2b147fca70cf8255                           0.0            0.0   \n",
              "\n",
              "                                  ...  f_score  m_score  freight_ratio  \\\n",
              "customer_unique_id                ...                                    \n",
              "0000366f3b9a7992bf8c76cfdf3221e2  ...        1   141.90           0.08   \n",
              "0000b849f77a49e4a4ce2b2a4ca5be3f  ...        1    27.19           0.30   \n",
              "0000f46a3911fa3c0805444483337064  ...        1    86.22           0.20   \n",
              "0000f6ccb0745a6a4b88665a16c9f078  ...        1    43.62           0.40   \n",
              "0004aac84e0df4da2b147fca70cf8255  ...        1   196.89           0.09   \n",
              "\n",
              "                                  mean_price_order  \\\n",
              "customer_unique_id                                   \n",
              "0000366f3b9a7992bf8c76cfdf3221e2            129.90   \n",
              "0000b849f77a49e4a4ce2b2a4ca5be3f             18.90   \n",
              "0000f46a3911fa3c0805444483337064             69.00   \n",
              "0000f6ccb0745a6a4b88665a16c9f078             25.99   \n",
              "0004aac84e0df4da2b147fca70cf8255            180.00   \n",
              "\n",
              "                                                       customer_id  \\\n",
              "customer_unique_id                                                   \n",
              "0000366f3b9a7992bf8c76cfdf3221e2  fadbb3709178fc513abc1b2670aa1ad2   \n",
              "0000b849f77a49e4a4ce2b2a4ca5be3f  4cb282e167ae9234755102258dd52ee8   \n",
              "0000f46a3911fa3c0805444483337064  9b3932a6253894a02c1df9d19004239f   \n",
              "0000f6ccb0745a6a4b88665a16c9f078  914991f0c02ef0843c0e7010c819d642   \n",
              "0004aac84e0df4da2b147fca70cf8255  47227568b10f5f58a524a75507e6992c   \n",
              "\n",
              "                                  customer_zip_code_prefix  customer_city  \\\n",
              "customer_unique_id                                                          \n",
              "0000366f3b9a7992bf8c76cfdf3221e2                      7787        cajamar   \n",
              "0000b849f77a49e4a4ce2b2a4ca5be3f                      6053         osasco   \n",
              "0000f46a3911fa3c0805444483337064                     88115       sao jose   \n",
              "0000f6ccb0745a6a4b88665a16c9f078                     66812          belem   \n",
              "0004aac84e0df4da2b147fca70cf8255                     18040       sorocaba   \n",
              "\n",
              "                                  customer_state   Flag and name  \\\n",
              "customer_unique_id                                                 \n",
              "0000366f3b9a7992bf8c76cfdf3221e2       São Paulo       São Paulo   \n",
              "0000b849f77a49e4a4ce2b2a4ca5be3f       São Paulo       São Paulo   \n",
              "0000f46a3911fa3c0805444483337064  Santa Catarina  Santa Catarina   \n",
              "0000f6ccb0745a6a4b88665a16c9f078            Pará            Pará   \n",
              "0004aac84e0df4da2b147fca70cf8255       São Paulo       São Paulo   \n",
              "\n",
              "                                  harvesine_distance  \n",
              "customer_unique_id                                    \n",
              "0000366f3b9a7992bf8c76cfdf3221e2          209.713834  \n",
              "0000b849f77a49e4a4ce2b2a4ca5be3f          209.713834  \n",
              "0000f46a3911fa3c0805444483337064          125.363853  \n",
              "0000f6ccb0745a6a4b88665a16c9f078         1574.231129  \n",
              "0004aac84e0df4da2b147fca70cf8255          209.713834  \n",
              "\n",
              "[5 rows x 28 columns]"
            ],
            "text/html": [
              "\n",
              "  <div id=\"df-ff5fb1ef-198d-48d3-9eb4-2cc5cc96fd62\">\n",
              "    <div class=\"colab-df-container\">\n",
              "      <div>\n",
              "<style scoped>\n",
              "    .dataframe tbody tr th:only-of-type {\n",
              "        vertical-align: middle;\n",
              "    }\n",
              "\n",
              "    .dataframe tbody tr th {\n",
              "        vertical-align: top;\n",
              "    }\n",
              "\n",
              "    .dataframe thead th {\n",
              "        text-align: right;\n",
              "    }\n",
              "</style>\n",
              "<table border=\"1\" class=\"dataframe\">\n",
              "  <thead>\n",
              "    <tr style=\"text-align: right;\">\n",
              "      <th></th>\n",
              "      <th>nb_orders</th>\n",
              "      <th>total_spend</th>\n",
              "      <th>mean_payment_sequential</th>\n",
              "      <th>mean_payment_installments</th>\n",
              "      <th>mean_review_score</th>\n",
              "      <th>mean_delivery_days</th>\n",
              "      <th>favorite_sale_month</th>\n",
              "      <th>books_cds_media</th>\n",
              "      <th>fashion_clothing_accessories</th>\n",
              "      <th>flowers_gifts</th>\n",
              "      <th>...</th>\n",
              "      <th>f_score</th>\n",
              "      <th>m_score</th>\n",
              "      <th>freight_ratio</th>\n",
              "      <th>mean_price_order</th>\n",
              "      <th>customer_id</th>\n",
              "      <th>customer_zip_code_prefix</th>\n",
              "      <th>customer_city</th>\n",
              "      <th>customer_state</th>\n",
              "      <th>Flag and name</th>\n",
              "      <th>harvesine_distance</th>\n",
              "    </tr>\n",
              "    <tr>\n",
              "      <th>customer_unique_id</th>\n",
              "      <th></th>\n",
              "      <th></th>\n",
              "      <th></th>\n",
              "      <th></th>\n",
              "      <th></th>\n",
              "      <th></th>\n",
              "      <th></th>\n",
              "      <th></th>\n",
              "      <th></th>\n",
              "      <th></th>\n",
              "      <th></th>\n",
              "      <th></th>\n",
              "      <th></th>\n",
              "      <th></th>\n",
              "      <th></th>\n",
              "      <th></th>\n",
              "      <th></th>\n",
              "      <th></th>\n",
              "      <th></th>\n",
              "      <th></th>\n",
              "      <th></th>\n",
              "    </tr>\n",
              "  </thead>\n",
              "  <tbody>\n",
              "    <tr>\n",
              "      <th>0000366f3b9a7992bf8c76cfdf3221e2</th>\n",
              "      <td>1</td>\n",
              "      <td>141.90</td>\n",
              "      <td>1.0</td>\n",
              "      <td>8.0</td>\n",
              "      <td>5.0</td>\n",
              "      <td>6.0</td>\n",
              "      <td>1</td>\n",
              "      <td>0.0</td>\n",
              "      <td>0.0</td>\n",
              "      <td>0.0</td>\n",
              "      <td>...</td>\n",
              "      <td>1</td>\n",
              "      <td>141.90</td>\n",
              "      <td>0.08</td>\n",
              "      <td>129.90</td>\n",
              "      <td>fadbb3709178fc513abc1b2670aa1ad2</td>\n",
              "      <td>7787</td>\n",
              "      <td>cajamar</td>\n",
              "      <td>São Paulo</td>\n",
              "      <td>São Paulo</td>\n",
              "      <td>209.713834</td>\n",
              "    </tr>\n",
              "    <tr>\n",
              "      <th>0000b849f77a49e4a4ce2b2a4ca5be3f</th>\n",
              "      <td>1</td>\n",
              "      <td>27.19</td>\n",
              "      <td>1.0</td>\n",
              "      <td>1.0</td>\n",
              "      <td>4.0</td>\n",
              "      <td>3.0</td>\n",
              "      <td>1</td>\n",
              "      <td>0.0</td>\n",
              "      <td>0.0</td>\n",
              "      <td>0.0</td>\n",
              "      <td>...</td>\n",
              "      <td>1</td>\n",
              "      <td>27.19</td>\n",
              "      <td>0.30</td>\n",
              "      <td>18.90</td>\n",
              "      <td>4cb282e167ae9234755102258dd52ee8</td>\n",
              "      <td>6053</td>\n",
              "      <td>osasco</td>\n",
              "      <td>São Paulo</td>\n",
              "      <td>São Paulo</td>\n",
              "      <td>209.713834</td>\n",
              "    </tr>\n",
              "    <tr>\n",
              "      <th>0000f46a3911fa3c0805444483337064</th>\n",
              "      <td>1</td>\n",
              "      <td>86.22</td>\n",
              "      <td>1.0</td>\n",
              "      <td>8.0</td>\n",
              "      <td>3.0</td>\n",
              "      <td>26.0</td>\n",
              "      <td>1</td>\n",
              "      <td>0.0</td>\n",
              "      <td>0.0</td>\n",
              "      <td>0.0</td>\n",
              "      <td>...</td>\n",
              "      <td>1</td>\n",
              "      <td>86.22</td>\n",
              "      <td>0.20</td>\n",
              "      <td>69.00</td>\n",
              "      <td>9b3932a6253894a02c1df9d19004239f</td>\n",
              "      <td>88115</td>\n",
              "      <td>sao jose</td>\n",
              "      <td>Santa Catarina</td>\n",
              "      <td>Santa Catarina</td>\n",
              "      <td>125.363853</td>\n",
              "    </tr>\n",
              "    <tr>\n",
              "      <th>0000f6ccb0745a6a4b88665a16c9f078</th>\n",
              "      <td>1</td>\n",
              "      <td>43.62</td>\n",
              "      <td>1.0</td>\n",
              "      <td>4.0</td>\n",
              "      <td>4.0</td>\n",
              "      <td>20.0</td>\n",
              "      <td>1</td>\n",
              "      <td>0.0</td>\n",
              "      <td>0.0</td>\n",
              "      <td>0.0</td>\n",
              "      <td>...</td>\n",
              "      <td>1</td>\n",
              "      <td>43.62</td>\n",
              "      <td>0.40</td>\n",
              "      <td>25.99</td>\n",
              "      <td>914991f0c02ef0843c0e7010c819d642</td>\n",
              "      <td>66812</td>\n",
              "      <td>belem</td>\n",
              "      <td>Pará</td>\n",
              "      <td>Pará</td>\n",
              "      <td>1574.231129</td>\n",
              "    </tr>\n",
              "    <tr>\n",
              "      <th>0004aac84e0df4da2b147fca70cf8255</th>\n",
              "      <td>1</td>\n",
              "      <td>196.89</td>\n",
              "      <td>1.0</td>\n",
              "      <td>6.0</td>\n",
              "      <td>5.0</td>\n",
              "      <td>13.0</td>\n",
              "      <td>1</td>\n",
              "      <td>0.0</td>\n",
              "      <td>0.0</td>\n",
              "      <td>0.0</td>\n",
              "      <td>...</td>\n",
              "      <td>1</td>\n",
              "      <td>196.89</td>\n",
              "      <td>0.09</td>\n",
              "      <td>180.00</td>\n",
              "      <td>47227568b10f5f58a524a75507e6992c</td>\n",
              "      <td>18040</td>\n",
              "      <td>sorocaba</td>\n",
              "      <td>São Paulo</td>\n",
              "      <td>São Paulo</td>\n",
              "      <td>209.713834</td>\n",
              "    </tr>\n",
              "  </tbody>\n",
              "</table>\n",
              "<p>5 rows × 28 columns</p>\n",
              "</div>\n",
              "      <button class=\"colab-df-convert\" onclick=\"convertToInteractive('df-ff5fb1ef-198d-48d3-9eb4-2cc5cc96fd62')\"\n",
              "              title=\"Convert this dataframe to an interactive table.\"\n",
              "              style=\"display:none;\">\n",
              "        \n",
              "  <svg xmlns=\"http://www.w3.org/2000/svg\" height=\"24px\"viewBox=\"0 0 24 24\"\n",
              "       width=\"24px\">\n",
              "    <path d=\"M0 0h24v24H0V0z\" fill=\"none\"/>\n",
              "    <path d=\"M18.56 5.44l.94 2.06.94-2.06 2.06-.94-2.06-.94-.94-2.06-.94 2.06-2.06.94zm-11 1L8.5 8.5l.94-2.06 2.06-.94-2.06-.94L8.5 2.5l-.94 2.06-2.06.94zm10 10l.94 2.06.94-2.06 2.06-.94-2.06-.94-.94-2.06-.94 2.06-2.06.94z\"/><path d=\"M17.41 7.96l-1.37-1.37c-.4-.4-.92-.59-1.43-.59-.52 0-1.04.2-1.43.59L10.3 9.45l-7.72 7.72c-.78.78-.78 2.05 0 2.83L4 21.41c.39.39.9.59 1.41.59.51 0 1.02-.2 1.41-.59l7.78-7.78 2.81-2.81c.8-.78.8-2.07 0-2.86zM5.41 20L4 18.59l7.72-7.72 1.47 1.35L5.41 20z\"/>\n",
              "  </svg>\n",
              "      </button>\n",
              "      \n",
              "  <style>\n",
              "    .colab-df-container {\n",
              "      display:flex;\n",
              "      flex-wrap:wrap;\n",
              "      gap: 12px;\n",
              "    }\n",
              "\n",
              "    .colab-df-convert {\n",
              "      background-color: #E8F0FE;\n",
              "      border: none;\n",
              "      border-radius: 50%;\n",
              "      cursor: pointer;\n",
              "      display: none;\n",
              "      fill: #1967D2;\n",
              "      height: 32px;\n",
              "      padding: 0 0 0 0;\n",
              "      width: 32px;\n",
              "    }\n",
              "\n",
              "    .colab-df-convert:hover {\n",
              "      background-color: #E2EBFA;\n",
              "      box-shadow: 0px 1px 2px rgba(60, 64, 67, 0.3), 0px 1px 3px 1px rgba(60, 64, 67, 0.15);\n",
              "      fill: #174EA6;\n",
              "    }\n",
              "\n",
              "    [theme=dark] .colab-df-convert {\n",
              "      background-color: #3B4455;\n",
              "      fill: #D2E3FC;\n",
              "    }\n",
              "\n",
              "    [theme=dark] .colab-df-convert:hover {\n",
              "      background-color: #434B5C;\n",
              "      box-shadow: 0px 1px 3px 1px rgba(0, 0, 0, 0.15);\n",
              "      filter: drop-shadow(0px 1px 2px rgba(0, 0, 0, 0.3));\n",
              "      fill: #FFFFFF;\n",
              "    }\n",
              "  </style>\n",
              "\n",
              "      <script>\n",
              "        const buttonEl =\n",
              "          document.querySelector('#df-ff5fb1ef-198d-48d3-9eb4-2cc5cc96fd62 button.colab-df-convert');\n",
              "        buttonEl.style.display =\n",
              "          google.colab.kernel.accessAllowed ? 'block' : 'none';\n",
              "\n",
              "        async function convertToInteractive(key) {\n",
              "          const element = document.querySelector('#df-ff5fb1ef-198d-48d3-9eb4-2cc5cc96fd62');\n",
              "          const dataTable =\n",
              "            await google.colab.kernel.invokeFunction('convertToInteractive',\n",
              "                                                     [key], {});\n",
              "          if (!dataTable) return;\n",
              "\n",
              "          const docLinkHtml = 'Like what you see? Visit the ' +\n",
              "            '<a target=\"_blank\" href=https://colab.research.google.com/notebooks/data_table.ipynb>data table notebook</a>'\n",
              "            + ' to learn more about interactive tables.';\n",
              "          element.innerHTML = '';\n",
              "          dataTable['output_type'] = 'display_data';\n",
              "          await google.colab.output.renderOutput(dataTable, element);\n",
              "          const docLink = document.createElement('div');\n",
              "          docLink.innerHTML = docLinkHtml;\n",
              "          element.appendChild(docLink);\n",
              "        }\n",
              "      </script>\n",
              "    </div>\n",
              "  </div>\n",
              "  "
            ]
          },
          "metadata": {},
          "execution_count": 22
        }
      ]
    },
    {
      "cell_type": "code",
      "source": [
        "data.info()"
      ],
      "metadata": {
        "colab": {
          "base_uri": "https://localhost:8080/"
        },
        "id": "AU-sbPAAicZB",
        "outputId": "aa6c0ede-41f1-4bc3-a479-7da3d980b124"
      },
      "execution_count": null,
      "outputs": [
        {
          "output_type": "stream",
          "name": "stdout",
          "text": [
            "<class 'pandas.core.frame.DataFrame'>\n",
            "Index: 96096 entries, 0000366f3b9a7992bf8c76cfdf3221e2 to ffffd2657e2aad2907e67c3e9daecbeb\n",
            "Data columns (total 28 columns):\n",
            " #   Column                        Non-Null Count  Dtype  \n",
            "---  ------                        --------------  -----  \n",
            " 0   nb_orders                     96096 non-null  int64  \n",
            " 1   total_spend                   96096 non-null  float64\n",
            " 2   mean_payment_sequential       96096 non-null  float64\n",
            " 3   mean_payment_installments     96096 non-null  float64\n",
            " 4   mean_review_score             96096 non-null  float64\n",
            " 5   mean_delivery_days            96096 non-null  float64\n",
            " 6   favorite_sale_month           96096 non-null  object \n",
            " 7   books_cds_media               96096 non-null  float64\n",
            " 8   fashion_clothing_accessories  96096 non-null  float64\n",
            " 9   flowers_gifts                 96096 non-null  float64\n",
            " 10  health_beauty                 96096 non-null  float64\n",
            " 11  other                         96096 non-null  float64\n",
            " 12  sport                         96096 non-null  float64\n",
            " 13  technology                    96096 non-null  float64\n",
            " 14  total_items                   96096 non-null  float64\n",
            " 15  mean_nb_items                 96096 non-null  float64\n",
            " 16  order_mean_delay              96096 non-null  float64\n",
            " 17  r_score                       96096 non-null  float64\n",
            " 18  f_score                       96096 non-null  int64  \n",
            " 19  m_score                       96096 non-null  float64\n",
            " 20  freight_ratio                 96096 non-null  float64\n",
            " 21  mean_price_order              96096 non-null  float64\n",
            " 22  customer_id                   96096 non-null  object \n",
            " 23  customer_zip_code_prefix      96096 non-null  int64  \n",
            " 24  customer_city                 96096 non-null  object \n",
            " 25  customer_state                96096 non-null  object \n",
            " 26  Flag and name                 96096 non-null  object \n",
            " 27  harvesine_distance            96096 non-null  float64\n",
            "dtypes: float64(20), int64(3), object(5)\n",
            "memory usage: 21.3+ MB\n"
          ]
        }
      ]
    },
    {
      "cell_type": "markdown",
      "source": [
        "Nous allons supprimer customer_zip_code_prefix et customer_city, customer_state pour ne conserver que la variable haversine_distance pour indiquer une localisation \"large\" des clients, ce qui évitera de focaliser la segmentation sur la localisation du client.  \n",
        "Nous allons également supprimer mean_price_order et mean_nb_items puisque nous avons vu dans le Notebook de nettoyage et exploration que ces variables sont fortement corrélées aux totaux pour le moment.  \n",
        "Nous allons aussi supprimer le customer_id.\n",
        "\n"
      ],
      "metadata": {
        "id": "L5lg8MLni6gO"
      }
    },
    {
      "cell_type": "code",
      "source": [
        "data.drop([\"customer_zip_code_prefix\",\n",
        "           \"customer_city\",\n",
        "           \"customer_state\",\n",
        "           \"Flag and name\",\n",
        "           \"mean_price_order\",\n",
        "           \"customer_id\",\n",
        "           \"mean_nb_items\"], axis=1, inplace=True)"
      ],
      "metadata": {
        "id": "SHs3zO7gjFUE"
      },
      "execution_count": null,
      "outputs": []
    },
    {
      "cell_type": "code",
      "source": [
        "categorical_features = list(data.select_dtypes(exclude=['int64', 'float64', 'uint8']).columns)\n",
        "categorical_features"
      ],
      "metadata": {
        "colab": {
          "base_uri": "https://localhost:8080/"
        },
        "id": "-4TchDSdjHrM",
        "outputId": "dc0b80f9-c5bd-4e50-9ef7-d6af78917563"
      },
      "execution_count": null,
      "outputs": [
        {
          "output_type": "execute_result",
          "data": {
            "text/plain": [
              "['favorite_sale_month']"
            ]
          },
          "metadata": {},
          "execution_count": 25
        }
      ]
    },
    {
      "cell_type": "code",
      "source": [
        "numerical_features = list(data.select_dtypes(include=['int64','float64', 'uint8']).columns)\n",
        "numerical_features"
      ],
      "metadata": {
        "colab": {
          "base_uri": "https://localhost:8080/"
        },
        "id": "ZR6pRVoGjN4g",
        "outputId": "951df034-1ebf-45ff-e1e6-a12ee243aba7"
      },
      "execution_count": null,
      "outputs": [
        {
          "output_type": "execute_result",
          "data": {
            "text/plain": [
              "['nb_orders',\n",
              " 'total_spend',\n",
              " 'mean_payment_sequential',\n",
              " 'mean_payment_installments',\n",
              " 'mean_review_score',\n",
              " 'mean_delivery_days',\n",
              " 'books_cds_media',\n",
              " 'fashion_clothing_accessories',\n",
              " 'flowers_gifts',\n",
              " 'health_beauty',\n",
              " 'other',\n",
              " 'sport',\n",
              " 'technology',\n",
              " 'total_items',\n",
              " 'order_mean_delay',\n",
              " 'r_score',\n",
              " 'f_score',\n",
              " 'm_score',\n",
              " 'freight_ratio',\n",
              " 'harvesine_distance']"
            ]
          },
          "metadata": {},
          "execution_count": 26
        }
      ]
    },
    {
      "cell_type": "markdown",
      "source": [
        "### **2.2.&nbsp;Application du Kmeans**"
      ],
      "metadata": {
        "id": "WNZTg1Vdkzvm"
      }
    },
    {
      "cell_type": "markdown",
      "source": [
        "**Méthode du coude : détermination du meilleur K**"
      ],
      "metadata": {
        "id": "bkZPSjjjkr2i"
      }
    },
    {
      "cell_type": "code",
      "source": [
        "scaler = MinMaxScaler()\n",
        "\n",
        "preprocessor = ColumnTransformer([\n",
        "    ('scaler', scaler, numerical_features)])"
      ],
      "metadata": {
        "id": "3byg3NM0jw69"
      },
      "execution_count": null,
      "outputs": []
    },
    {
      "cell_type": "code",
      "source": [
        "X = data.copy()\n",
        "\n",
        "# Elbow method\n",
        "kmeans_visualizer = Pipeline([\n",
        "    (\"preprocessor\", preprocessor),\n",
        "    (\"kelbowvisualizer\", KElbowVisualizer(KMeans(),K=(4,12)))])\n",
        "kmeans_visualizer.fit(X)\n",
        "kmeans_visualizer.named_steps['kelbowvisualizer'].show()"
      ],
      "metadata": {
        "colab": {
          "base_uri": "https://localhost:8080/",
          "height": 393
        },
        "id": "21Epihm0j5fe",
        "outputId": "44998e62-c781-4178-c04e-9fe1f744ae91"
      },
      "execution_count": null,
      "outputs": [
        {
          "output_type": "display_data",
          "data": {
            "text/plain": [
              "<Figure size 576x396 with 2 Axes>"
            ],
            "image/png": "[encoded data removed]"
          },
          "metadata": {}
        },
        {
          "output_type": "execute_result",
          "data": {
            "text/plain": [
              "<matplotlib.axes._subplots.AxesSubplot at 0x7f70d7f92400>"
            ]
          },
          "metadata": {},
          "execution_count": 28
        }
      ]
    },
    {
      "cell_type": "markdown",
      "source": [
        "**Coefficient de silhouette**"
      ],
      "metadata": {
        "id": "OhchqQAYk_G6"
      }
    },
    {
      "cell_type": "code",
      "source": [
        "# Best K in Elbow\n",
        "K = kmeans_visualizer.named_steps['kelbowvisualizer'].elbow_value_\n",
        "\n",
        "# Silhouette Visualizer\n",
        "silhouette_visualizer = Pipeline([\n",
        "    (\"preprocessor\", preprocessor),\n",
        "    (\"silhouettevisualizer\", SilhouetteVisualizer(KMeans(K)))])\n",
        "silhouette_visualizer.fit(X)\n",
        "silhouette_visualizer.named_steps['silhouettevisualizer'].show()"
      ],
      "metadata": {
        "colab": {
          "base_uri": "https://localhost:8080/"
        },
        "id": "FNm6g4NilETX",
        "outputId": "0e92397a-aaa0-42a2-b439-34803aad0d34"
      },
      "execution_count": null,
      "outputs": [
        {
          "output_type": "execute_result",
          "data": {
            "text/plain": [
              "<matplotlib.axes._subplots.AxesSubplot at 0x7f70d3a71df0>"
            ]
          },
          "metadata": {},
          "execution_count": 47
        },
        {
          "output_type": "display_data",
          "data": {
            "text/plain": [
              "<Figure size 576x396 with 1 Axes>"
            ],
            "image/png": "[encoded data removed]"
          },
          "metadata": {}
        }
      ]
    },
    {
      "cell_type": "markdown",
      "source": [
        "**Distances intercluster**"
      ],
      "metadata": {
        "id": "pSHPuhQrmIZH"
      }
    },
    {
      "cell_type": "code",
      "source": [
        "# Intercluster distance Map with best k\n",
        "distance_visualizer = Pipeline([\n",
        "    (\"preprocessor\", preprocessor),\n",
        "    (\"distancevisualizer\", InterclusterDistance(KMeans(K)))])\n",
        "distance_visualizer.fit(X)\n",
        "distance_visualizer.named_steps['distancevisualizer'].show()"
      ],
      "metadata": {
        "colab": {
          "base_uri": "https://localhost:8080/",
          "height": 383
        },
        "id": "Soua8O3DmKSw",
        "outputId": "5fa2d620-04dc-4827-bf92-45c0b418ec27"
      },
      "execution_count": null,
      "outputs": [
        {
          "output_type": "display_data",
          "data": {
            "text/plain": [
              "<Figure size 576x396 with 2 Axes>"
            ],
            "image/png": "[encoded data removed]"
          },
          "metadata": {}
        },
        {
          "output_type": "execute_result",
          "data": {
            "text/plain": [
              "<matplotlib.axes._subplots.AxesSubplot at 0x7f70d6ab1310>"
            ]
          },
          "metadata": {},
          "execution_count": 30
        }
      ]
    },
    {
      "cell_type": "markdown",
      "source": [
        "Sur cette projection en 2D, on remarque que les différents clusters sont bien séparés sur les 2 premières composantes principales. Le clustering semble donc performant et il faut a présent identifier les composantes métier de chaque cluster"
      ],
      "metadata": {
        "id": "_NDD85xqmUGr"
      }
    },
    {
      "cell_type": "markdown",
      "source": [
        "**Analyse des différents clusters**"
      ],
      "metadata": {
        "id": "SGRytWfWmZQj"
      }
    },
    {
      "cell_type": "code",
      "source": [
        "# KMeans Pipeline with best K\n",
        "kmeans_model = Pipeline([(\"preprocessor\", preprocessor),\n",
        "                         (\"kmeans\", KMeans(K))])\n",
        "kmeans_model.fit(X)\n",
        "\n",
        "# Kmeans labels\n",
        "kmeans_labels = kmeans_model.named_steps['kmeans'].labels_\n",
        "data[\"kmeans_label\"] = kmeans_labels"
      ],
      "metadata": {
        "id": "l3lLSw71mdHX"
      },
      "execution_count": null,
      "outputs": []
    },
    {
      "cell_type": "code",
      "source": [
        "kmeans_clusters_means = data.groupby(\"kmeans_label\").mean().reset_index()\n",
        "kmeans_clusters_means"
      ],
      "metadata": {
        "colab": {
          "base_uri": "https://localhost:8080/",
          "height": 299
        },
        "id": "X2eJjhlsmltf",
        "outputId": "7918ebca-05a7-4084-8d37-817abc66e598"
      },
      "execution_count": null,
      "outputs": [
        {
          "output_type": "execute_result",
          "data": {
            "text/plain": [
              "   kmeans_label  nb_orders  total_spend  mean_payment_sequential  \\\n",
              "0             0   1.056126   164.447890                 1.039297   \n",
              "1             1   1.037546   154.394741                 1.034242   \n",
              "2             2   0.909539   145.207211                 1.046554   \n",
              "3             3   1.023073   158.162173                 1.050055   \n",
              "4             4   1.032542   186.020179                 1.042296   \n",
              "\n",
              "   mean_payment_installments  mean_review_score  mean_delivery_days  \\\n",
              "0                   2.812788           4.703974           10.534126   \n",
              "1                   2.473912           4.235925           12.261376   \n",
              "2                   2.945243           4.679481           11.579230   \n",
              "3                   3.101902           4.239812           12.246531   \n",
              "4                   3.177205           1.758365           18.832984   \n",
              "\n",
              "   books_cds_media  fashion_clothing_accessories  flowers_gifts  ...  \\\n",
              "0         0.000018                      0.000939       0.000588  ...   \n",
              "1         0.000000                      0.000658       0.000035  ...   \n",
              "2         0.000017                      0.000118       0.000084  ...   \n",
              "3         0.006648                      0.221266       0.353578  ...   \n",
              "4         0.000000                      0.000945       0.001267  ...   \n",
              "\n",
              "      other     sport  technology  total_items  order_mean_delay     r_score  \\\n",
              "0  0.995804  0.001568    0.000258     1.183234        114.322179  120.471098   \n",
              "1  0.004112  0.994532    0.000233     1.165453        239.190803  245.215887   \n",
              "2  0.999601  0.000104    0.000035     1.021220        376.670015  377.729968   \n",
              "3  0.004386  0.000775    0.109053     1.099741        273.390472  277.578893   \n",
              "4  0.995255  0.001741    0.000201     1.331868        219.651288  224.911450   \n",
              "\n",
              "    f_score     m_score  freight_ratio  harvesine_distance  \n",
              "0  1.183234  156.552558       0.210611          409.369517  \n",
              "1  1.165453  149.299047       0.198942          427.212864  \n",
              "2  1.021220  151.993044       0.202608          449.192991  \n",
              "3  1.099741  154.940371       0.186458          451.662938  \n",
              "4  1.331868  181.110219       0.217440          485.327935  \n",
              "\n",
              "[5 rows x 21 columns]"
            ],
            "text/html": [
              "\n",
              "  <div id=\"df-60433b1e-c672-421b-a665-8d188dceda15\">\n",
              "    <div class=\"colab-df-container\">\n",
              "      <div>\n",
              "<style scoped>\n",
              "    .dataframe tbody tr th:only-of-type {\n",
              "        vertical-align: middle;\n",
              "    }\n",
              "\n",
              "    .dataframe tbody tr th {\n",
              "        vertical-align: top;\n",
              "    }\n",
              "\n",
              "    .dataframe thead th {\n",
              "        text-align: right;\n",
              "    }\n",
              "</style>\n",
              "<table border=\"1\" class=\"dataframe\">\n",
              "  <thead>\n",
              "    <tr style=\"text-align: right;\">\n",
              "      <th></th>\n",
              "      <th>kmeans_label</th>\n",
              "      <th>nb_orders</th>\n",
              "      <th>total_spend</th>\n",
              "      <th>mean_payment_sequential</th>\n",
              "      <th>mean_payment_installments</th>\n",
              "      <th>mean_review_score</th>\n",
              "      <th>mean_delivery_days</th>\n",
              "      <th>books_cds_media</th>\n",
              "      <th>fashion_clothing_accessories</th>\n",
              "      <th>flowers_gifts</th>\n",
              "      <th>...</th>\n",
              "      <th>other</th>\n",
              "      <th>sport</th>\n",
              "      <th>technology</th>\n",
              "      <th>total_items</th>\n",
              "      <th>order_mean_delay</th>\n",
              "      <th>r_score</th>\n",
              "      <th>f_score</th>\n",
              "      <th>m_score</th>\n",
              "      <th>freight_ratio</th>\n",
              "      <th>harvesine_distance</th>\n",
              "    </tr>\n",
              "  </thead>\n",
              "  <tbody>\n",
              "    <tr>\n",
              "      <th>0</th>\n",
              "      <td>0</td>\n",
              "      <td>1.056126</td>\n",
              "      <td>164.447890</td>\n",
              "      <td>1.039297</td>\n",
              "      <td>2.812788</td>\n",
              "      <td>4.703974</td>\n",
              "      <td>10.534126</td>\n",
              "      <td>0.000018</td>\n",
              "      <td>0.000939</td>\n",
              "      <td>0.000588</td>\n",
              "      <td>...</td>\n",
              "      <td>0.995804</td>\n",
              "      <td>0.001568</td>\n",
              "      <td>0.000258</td>\n",
              "      <td>1.183234</td>\n",
              "      <td>114.322179</td>\n",
              "      <td>120.471098</td>\n",
              "      <td>1.183234</td>\n",
              "      <td>156.552558</td>\n",
              "      <td>0.210611</td>\n",
              "      <td>409.369517</td>\n",
              "    </tr>\n",
              "    <tr>\n",
              "      <th>1</th>\n",
              "      <td>1</td>\n",
              "      <td>1.037546</td>\n",
              "      <td>154.394741</td>\n",
              "      <td>1.034242</td>\n",
              "      <td>2.473912</td>\n",
              "      <td>4.235925</td>\n",
              "      <td>12.261376</td>\n",
              "      <td>0.000000</td>\n",
              "      <td>0.000658</td>\n",
              "      <td>0.000035</td>\n",
              "      <td>...</td>\n",
              "      <td>0.004112</td>\n",
              "      <td>0.994532</td>\n",
              "      <td>0.000233</td>\n",
              "      <td>1.165453</td>\n",
              "      <td>239.190803</td>\n",
              "      <td>245.215887</td>\n",
              "      <td>1.165453</td>\n",
              "      <td>149.299047</td>\n",
              "      <td>0.198942</td>\n",
              "      <td>427.212864</td>\n",
              "    </tr>\n",
              "    <tr>\n",
              "      <th>2</th>\n",
              "      <td>2</td>\n",
              "      <td>0.909539</td>\n",
              "      <td>145.207211</td>\n",
              "      <td>1.046554</td>\n",
              "      <td>2.945243</td>\n",
              "      <td>4.679481</td>\n",
              "      <td>11.579230</td>\n",
              "      <td>0.000017</td>\n",
              "      <td>0.000118</td>\n",
              "      <td>0.000084</td>\n",
              "      <td>...</td>\n",
              "      <td>0.999601</td>\n",
              "      <td>0.000104</td>\n",
              "      <td>0.000035</td>\n",
              "      <td>1.021220</td>\n",
              "      <td>376.670015</td>\n",
              "      <td>377.729968</td>\n",
              "      <td>1.021220</td>\n",
              "      <td>151.993044</td>\n",
              "      <td>0.202608</td>\n",
              "      <td>449.192991</td>\n",
              "    </tr>\n",
              "    <tr>\n",
              "      <th>3</th>\n",
              "      <td>3</td>\n",
              "      <td>1.023073</td>\n",
              "      <td>158.162173</td>\n",
              "      <td>1.050055</td>\n",
              "      <td>3.101902</td>\n",
              "      <td>4.239812</td>\n",
              "      <td>12.246531</td>\n",
              "      <td>0.006648</td>\n",
              "      <td>0.221266</td>\n",
              "      <td>0.353578</td>\n",
              "      <td>...</td>\n",
              "      <td>0.004386</td>\n",
              "      <td>0.000775</td>\n",
              "      <td>0.109053</td>\n",
              "      <td>1.099741</td>\n",
              "      <td>273.390472</td>\n",
              "      <td>277.578893</td>\n",
              "      <td>1.099741</td>\n",
              "      <td>154.940371</td>\n",
              "      <td>0.186458</td>\n",
              "      <td>451.662938</td>\n",
              "    </tr>\n",
              "    <tr>\n",
              "      <th>4</th>\n",
              "      <td>4</td>\n",
              "      <td>1.032542</td>\n",
              "      <td>186.020179</td>\n",
              "      <td>1.042296</td>\n",
              "      <td>3.177205</td>\n",
              "      <td>1.758365</td>\n",
              "      <td>18.832984</td>\n",
              "      <td>0.000000</td>\n",
              "      <td>0.000945</td>\n",
              "      <td>0.001267</td>\n",
              "      <td>...</td>\n",
              "      <td>0.995255</td>\n",
              "      <td>0.001741</td>\n",
              "      <td>0.000201</td>\n",
              "      <td>1.331868</td>\n",
              "      <td>219.651288</td>\n",
              "      <td>224.911450</td>\n",
              "      <td>1.331868</td>\n",
              "      <td>181.110219</td>\n",
              "      <td>0.217440</td>\n",
              "      <td>485.327935</td>\n",
              "    </tr>\n",
              "  </tbody>\n",
              "</table>\n",
              "<p>5 rows × 21 columns</p>\n",
              "</div>\n",
              "      <button class=\"colab-df-convert\" onclick=\"convertToInteractive('df-60433b1e-c672-421b-a665-8d188dceda15')\"\n",
              "              title=\"Convert this dataframe to an interactive table.\"\n",
              "              style=\"display:none;\">\n",
              "        \n",
              "  <svg xmlns=\"http://www.w3.org/2000/svg\" height=\"24px\"viewBox=\"0 0 24 24\"\n",
              "       width=\"24px\">\n",
              "    <path d=\"M0 0h24v24H0V0z\" fill=\"none\"/>\n",
              "    <path d=\"M18.56 5.44l.94 2.06.94-2.06 2.06-.94-2.06-.94-.94-2.06-.94 2.06-2.06.94zm-11 1L8.5 8.5l.94-2.06 2.06-.94-2.06-.94L8.5 2.5l-.94 2.06-2.06.94zm10 10l.94 2.06.94-2.06 2.06-.94-2.06-.94-.94-2.06-.94 2.06-2.06.94z\"/><path d=\"M17.41 7.96l-1.37-1.37c-.4-.4-.92-.59-1.43-.59-.52 0-1.04.2-1.43.59L10.3 9.45l-7.72 7.72c-.78.78-.78 2.05 0 2.83L4 21.41c.39.39.9.59 1.41.59.51 0 1.02-.2 1.41-.59l7.78-7.78 2.81-2.81c.8-.78.8-2.07 0-2.86zM5.41 20L4 18.59l7.72-7.72 1.47 1.35L5.41 20z\"/>\n",
              "  </svg>\n",
              "      </button>\n",
              "      \n",
              "  <style>\n",
              "    .colab-df-container {\n",
              "      display:flex;\n",
              "      flex-wrap:wrap;\n",
              "      gap: 12px;\n",
              "    }\n",
              "\n",
              "    .colab-df-convert {\n",
              "      background-color: #E8F0FE;\n",
              "      border: none;\n",
              "      border-radius: 50%;\n",
              "      cursor: pointer;\n",
              "      display: none;\n",
              "      fill: #1967D2;\n",
              "      height: 32px;\n",
              "      padding: 0 0 0 0;\n",
              "      width: 32px;\n",
              "    }\n",
              "\n",
              "    .colab-df-convert:hover {\n",
              "      background-color: #E2EBFA;\n",
              "      box-shadow: 0px 1px 2px rgba(60, 64, 67, 0.3), 0px 1px 3px 1px rgba(60, 64, 67, 0.15);\n",
              "      fill: #174EA6;\n",
              "    }\n",
              "\n",
              "    [theme=dark] .colab-df-convert {\n",
              "      background-color: #3B4455;\n",
              "      fill: #D2E3FC;\n",
              "    }\n",
              "\n",
              "    [theme=dark] .colab-df-convert:hover {\n",
              "      background-color: #434B5C;\n",
              "      box-shadow: 0px 1px 3px 1px rgba(0, 0, 0, 0.15);\n",
              "      filter: drop-shadow(0px 1px 2px rgba(0, 0, 0, 0.3));\n",
              "      fill: #FFFFFF;\n",
              "    }\n",
              "  </style>\n",
              "\n",
              "      <script>\n",
              "        const buttonEl =\n",
              "          document.querySelector('#df-60433b1e-c672-421b-a665-8d188dceda15 button.colab-df-convert');\n",
              "        buttonEl.style.display =\n",
              "          google.colab.kernel.accessAllowed ? 'block' : 'none';\n",
              "\n",
              "        async function convertToInteractive(key) {\n",
              "          const element = document.querySelector('#df-60433b1e-c672-421b-a665-8d188dceda15');\n",
              "          const dataTable =\n",
              "            await google.colab.kernel.invokeFunction('convertToInteractive',\n",
              "                                                     [key], {});\n",
              "          if (!dataTable) return;\n",
              "\n",
              "          const docLinkHtml = 'Like what you see? Visit the ' +\n",
              "            '<a target=\"_blank\" href=https://colab.research.google.com/notebooks/data_table.ipynb>data table notebook</a>'\n",
              "            + ' to learn more about interactive tables.';\n",
              "          element.innerHTML = '';\n",
              "          dataTable['output_type'] = 'display_data';\n",
              "          await google.colab.output.renderOutput(dataTable, element);\n",
              "          const docLink = document.createElement('div');\n",
              "          docLink.innerHTML = docLinkHtml;\n",
              "          element.appendChild(docLink);\n",
              "        }\n",
              "      </script>\n",
              "    </div>\n",
              "  </div>\n",
              "  "
            ]
          },
          "metadata": {},
          "execution_count": 32
        }
      ]
    },
    {
      "cell_type": "code",
      "source": [
        "X_scaled = preprocessor.fit_transform(X)\n",
        "X_scaled = pd.DataFrame(X_scaled, index=X.index, columns=numerical_features)\n",
        "X_scaled[\"kmeans_label\"] = kmeans_labels\n",
        "X_scaled_clusters = X_scaled.groupby(\"kmeans_label\").mean()\n",
        "X_scaled_clusters"
      ],
      "metadata": {
        "colab": {
          "base_uri": "https://localhost:8080/",
          "height": 301
        },
        "id": "y2nOlhgVmt5t",
        "outputId": "b7e60c13-35dc-442e-b509-486336cefb08"
      },
      "execution_count": null,
      "outputs": [
        {
          "output_type": "execute_result",
          "data": {
            "text/plain": [
              "              nb_orders  total_spend  mean_payment_sequential  \\\n",
              "kmeans_label                                                    \n",
              "0              0.070408     0.012035                 0.001572   \n",
              "1              0.069170     0.011299                 0.001370   \n",
              "2              0.060636     0.010627                 0.001862   \n",
              "3              0.068205     0.011575                 0.002002   \n",
              "4              0.068836     0.013614                 0.001692   \n",
              "\n",
              "              mean_payment_installments  mean_review_score  \\\n",
              "kmeans_label                                                 \n",
              "0                              0.108184           0.925994   \n",
              "1                              0.095150           0.808981   \n",
              "2                              0.113279           0.919870   \n",
              "3                              0.119304           0.809953   \n",
              "4                              0.122200           0.189591   \n",
              "\n",
              "              mean_delivery_days  books_cds_media  \\\n",
              "kmeans_label                                        \n",
              "0                       0.045618         0.000018   \n",
              "1                       0.053882         0.000000   \n",
              "2                       0.050618         0.000017   \n",
              "3                       0.053811         0.006648   \n",
              "4                       0.085325         0.000000   \n",
              "\n",
              "              fashion_clothing_accessories  flowers_gifts  health_beauty  \\\n",
              "kmeans_label                                                               \n",
              "0                                 0.000939       0.000588       0.000825   \n",
              "1                                 0.000658       0.000035       0.000430   \n",
              "2                                 0.000118       0.000084       0.000040   \n",
              "3                                 0.221266       0.353578       0.304294   \n",
              "4                                 0.000945       0.001267       0.000591   \n",
              "\n",
              "                 other     sport  technology  total_items  order_mean_delay  \\\n",
              "kmeans_label                                                                  \n",
              "0             0.995804  0.001568    0.000258     0.049301          0.164492   \n",
              "1             0.004112  0.994532    0.000233     0.048561          0.344159   \n",
              "2             0.999601  0.000104    0.000035     0.042551          0.541971   \n",
              "3             0.004386  0.000775    0.109053     0.045823          0.393368   \n",
              "4             0.995255  0.001741    0.000201     0.055495          0.316045   \n",
              "\n",
              "               r_score   f_score   m_score  freight_ratio  harvesine_distance  \n",
              "kmeans_label                                                                   \n",
              "0             0.173589  0.049301  0.010763       0.219386            0.152019  \n",
              "1             0.353337  0.048561  0.010232       0.207232            0.161036  \n",
              "2             0.544279  0.042551  0.010429       0.211050            0.172144  \n",
              "3             0.399970  0.045823  0.010645       0.194227            0.173392  \n",
              "4             0.324080  0.055495  0.012561       0.226500            0.190405  "
            ],
            "text/html": [
              "\n",
              "  <div id=\"df-3985533b-42bc-47b1-9b79-7da54250f9cf\">\n",
              "    <div class=\"colab-df-container\">\n",
              "      <div>\n",
              "<style scoped>\n",
              "    .dataframe tbody tr th:only-of-type {\n",
              "        vertical-align: middle;\n",
              "    }\n",
              "\n",
              "    .dataframe tbody tr th {\n",
              "        vertical-align: top;\n",
              "    }\n",
              "\n",
              "    .dataframe thead th {\n",
              "        text-align: right;\n",
              "    }\n",
              "</style>\n",
              "<table border=\"1\" class=\"dataframe\">\n",
              "  <thead>\n",
              "    <tr style=\"text-align: right;\">\n",
              "      <th></th>\n",
              "      <th>nb_orders</th>\n",
              "      <th>total_spend</th>\n",
              "      <th>mean_payment_sequential</th>\n",
              "      <th>mean_payment_installments</th>\n",
              "      <th>mean_review_score</th>\n",
              "      <th>mean_delivery_days</th>\n",
              "      <th>books_cds_media</th>\n",
              "      <th>fashion_clothing_accessories</th>\n",
              "      <th>flowers_gifts</th>\n",
              "      <th>health_beauty</th>\n",
              "      <th>other</th>\n",
              "      <th>sport</th>\n",
              "      <th>technology</th>\n",
              "      <th>total_items</th>\n",
              "      <th>order_mean_delay</th>\n",
              "      <th>r_score</th>\n",
              "      <th>f_score</th>\n",
              "      <th>m_score</th>\n",
              "      <th>freight_ratio</th>\n",
              "      <th>harvesine_distance</th>\n",
              "    </tr>\n",
              "    <tr>\n",
              "      <th>kmeans_label</th>\n",
              "      <th></th>\n",
              "      <th></th>\n",
              "      <th></th>\n",
              "      <th></th>\n",
              "      <th></th>\n",
              "      <th></th>\n",
              "      <th></th>\n",
              "      <th></th>\n",
              "      <th></th>\n",
              "      <th></th>\n",
              "      <th></th>\n",
              "      <th></th>\n",
              "      <th></th>\n",
              "      <th></th>\n",
              "      <th></th>\n",
              "      <th></th>\n",
              "      <th></th>\n",
              "      <th></th>\n",
              "      <th></th>\n",
              "      <th></th>\n",
              "    </tr>\n",
              "  </thead>\n",
              "  <tbody>\n",
              "    <tr>\n",
              "      <th>0</th>\n",
              "      <td>0.070408</td>\n",
              "      <td>0.012035</td>\n",
              "      <td>0.001572</td>\n",
              "      <td>0.108184</td>\n",
              "      <td>0.925994</td>\n",
              "      <td>0.045618</td>\n",
              "      <td>0.000018</td>\n",
              "      <td>0.000939</td>\n",
              "      <td>0.000588</td>\n",
              "      <td>0.000825</td>\n",
              "      <td>0.995804</td>\n",
              "      <td>0.001568</td>\n",
              "      <td>0.000258</td>\n",
              "      <td>0.049301</td>\n",
              "      <td>0.164492</td>\n",
              "      <td>0.173589</td>\n",
              "      <td>0.049301</td>\n",
              "      <td>0.010763</td>\n",
              "      <td>0.219386</td>\n",
              "      <td>0.152019</td>\n",
              "    </tr>\n",
              "    <tr>\n",
              "      <th>1</th>\n",
              "      <td>0.069170</td>\n",
              "      <td>0.011299</td>\n",
              "      <td>0.001370</td>\n",
              "      <td>0.095150</td>\n",
              "      <td>0.808981</td>\n",
              "      <td>0.053882</td>\n",
              "      <td>0.000000</td>\n",
              "      <td>0.000658</td>\n",
              "      <td>0.000035</td>\n",
              "      <td>0.000430</td>\n",
              "      <td>0.004112</td>\n",
              "      <td>0.994532</td>\n",
              "      <td>0.000233</td>\n",
              "      <td>0.048561</td>\n",
              "      <td>0.344159</td>\n",
              "      <td>0.353337</td>\n",
              "      <td>0.048561</td>\n",
              "      <td>0.010232</td>\n",
              "      <td>0.207232</td>\n",
              "      <td>0.161036</td>\n",
              "    </tr>\n",
              "    <tr>\n",
              "      <th>2</th>\n",
              "      <td>0.060636</td>\n",
              "      <td>0.010627</td>\n",
              "      <td>0.001862</td>\n",
              "      <td>0.113279</td>\n",
              "      <td>0.919870</td>\n",
              "      <td>0.050618</td>\n",
              "      <td>0.000017</td>\n",
              "      <td>0.000118</td>\n",
              "      <td>0.000084</td>\n",
              "      <td>0.000040</td>\n",
              "      <td>0.999601</td>\n",
              "      <td>0.000104</td>\n",
              "      <td>0.000035</td>\n",
              "      <td>0.042551</td>\n",
              "      <td>0.541971</td>\n",
              "      <td>0.544279</td>\n",
              "      <td>0.042551</td>\n",
              "      <td>0.010429</td>\n",
              "      <td>0.211050</td>\n",
              "      <td>0.172144</td>\n",
              "    </tr>\n",
              "    <tr>\n",
              "      <th>3</th>\n",
              "      <td>0.068205</td>\n",
              "      <td>0.011575</td>\n",
              "      <td>0.002002</td>\n",
              "      <td>0.119304</td>\n",
              "      <td>0.809953</td>\n",
              "      <td>0.053811</td>\n",
              "      <td>0.006648</td>\n",
              "      <td>0.221266</td>\n",
              "      <td>0.353578</td>\n",
              "      <td>0.304294</td>\n",
              "      <td>0.004386</td>\n",
              "      <td>0.000775</td>\n",
              "      <td>0.109053</td>\n",
              "      <td>0.045823</td>\n",
              "      <td>0.393368</td>\n",
              "      <td>0.399970</td>\n",
              "      <td>0.045823</td>\n",
              "      <td>0.010645</td>\n",
              "      <td>0.194227</td>\n",
              "      <td>0.173392</td>\n",
              "    </tr>\n",
              "    <tr>\n",
              "      <th>4</th>\n",
              "      <td>0.068836</td>\n",
              "      <td>0.013614</td>\n",
              "      <td>0.001692</td>\n",
              "      <td>0.122200</td>\n",
              "      <td>0.189591</td>\n",
              "      <td>0.085325</td>\n",
              "      <td>0.000000</td>\n",
              "      <td>0.000945</td>\n",
              "      <td>0.001267</td>\n",
              "      <td>0.000591</td>\n",
              "      <td>0.995255</td>\n",
              "      <td>0.001741</td>\n",
              "      <td>0.000201</td>\n",
              "      <td>0.055495</td>\n",
              "      <td>0.316045</td>\n",
              "      <td>0.324080</td>\n",
              "      <td>0.055495</td>\n",
              "      <td>0.012561</td>\n",
              "      <td>0.226500</td>\n",
              "      <td>0.190405</td>\n",
              "    </tr>\n",
              "  </tbody>\n",
              "</table>\n",
              "</div>\n",
              "      <button class=\"colab-df-convert\" onclick=\"convertToInteractive('df-3985533b-42bc-47b1-9b79-7da54250f9cf')\"\n",
              "              title=\"Convert this dataframe to an interactive table.\"\n",
              "              style=\"display:none;\">\n",
              "        \n",
              "  <svg xmlns=\"http://www.w3.org/2000/svg\" height=\"24px\"viewBox=\"0 0 24 24\"\n",
              "       width=\"24px\">\n",
              "    <path d=\"M0 0h24v24H0V0z\" fill=\"none\"/>\n",
              "    <path d=\"M18.56 5.44l.94 2.06.94-2.06 2.06-.94-2.06-.94-.94-2.06-.94 2.06-2.06.94zm-11 1L8.5 8.5l.94-2.06 2.06-.94-2.06-.94L8.5 2.5l-.94 2.06-2.06.94zm10 10l.94 2.06.94-2.06 2.06-.94-2.06-.94-.94-2.06-.94 2.06-2.06.94z\"/><path d=\"M17.41 7.96l-1.37-1.37c-.4-.4-.92-.59-1.43-.59-.52 0-1.04.2-1.43.59L10.3 9.45l-7.72 7.72c-.78.78-.78 2.05 0 2.83L4 21.41c.39.39.9.59 1.41.59.51 0 1.02-.2 1.41-.59l7.78-7.78 2.81-2.81c.8-.78.8-2.07 0-2.86zM5.41 20L4 18.59l7.72-7.72 1.47 1.35L5.41 20z\"/>\n",
              "  </svg>\n",
              "      </button>\n",
              "      \n",
              "  <style>\n",
              "    .colab-df-container {\n",
              "      display:flex;\n",
              "      flex-wrap:wrap;\n",
              "      gap: 12px;\n",
              "    }\n",
              "\n",
              "    .colab-df-convert {\n",
              "      background-color: #E8F0FE;\n",
              "      border: none;\n",
              "      border-radius: 50%;\n",
              "      cursor: pointer;\n",
              "      display: none;\n",
              "      fill: #1967D2;\n",
              "      height: 32px;\n",
              "      padding: 0 0 0 0;\n",
              "      width: 32px;\n",
              "    }\n",
              "\n",
              "    .colab-df-convert:hover {\n",
              "      background-color: #E2EBFA;\n",
              "      box-shadow: 0px 1px 2px rgba(60, 64, 67, 0.3), 0px 1px 3px 1px rgba(60, 64, 67, 0.15);\n",
              "      fill: #174EA6;\n",
              "    }\n",
              "\n",
              "    [theme=dark] .colab-df-convert {\n",
              "      background-color: #3B4455;\n",
              "      fill: #D2E3FC;\n",
              "    }\n",
              "\n",
              "    [theme=dark] .colab-df-convert:hover {\n",
              "      background-color: #434B5C;\n",
              "      box-shadow: 0px 1px 3px 1px rgba(0, 0, 0, 0.15);\n",
              "      filter: drop-shadow(0px 1px 2px rgba(0, 0, 0, 0.3));\n",
              "      fill: #FFFFFF;\n",
              "    }\n",
              "  </style>\n",
              "\n",
              "      <script>\n",
              "        const buttonEl =\n",
              "          document.querySelector('#df-3985533b-42bc-47b1-9b79-7da54250f9cf button.colab-df-convert');\n",
              "        buttonEl.style.display =\n",
              "          google.colab.kernel.accessAllowed ? 'block' : 'none';\n",
              "\n",
              "        async function convertToInteractive(key) {\n",
              "          const element = document.querySelector('#df-3985533b-42bc-47b1-9b79-7da54250f9cf');\n",
              "          const dataTable =\n",
              "            await google.colab.kernel.invokeFunction('convertToInteractive',\n",
              "                                                     [key], {});\n",
              "          if (!dataTable) return;\n",
              "\n",
              "          const docLinkHtml = 'Like what you see? Visit the ' +\n",
              "            '<a target=\"_blank\" href=https://colab.research.google.com/notebooks/data_table.ipynb>data table notebook</a>'\n",
              "            + ' to learn more about interactive tables.';\n",
              "          element.innerHTML = '';\n",
              "          dataTable['output_type'] = 'display_data';\n",
              "          await google.colab.output.renderOutput(dataTable, element);\n",
              "          const docLink = document.createElement('div');\n",
              "          docLink.innerHTML = docLinkHtml;\n",
              "          element.appendChild(docLink);\n",
              "        }\n",
              "      </script>\n",
              "    </div>\n",
              "  </div>\n",
              "  "
            ]
          },
          "metadata": {},
          "execution_count": 33
        }
      ]
    },
    {
      "cell_type": "code",
      "source": [
        "plot_radars(data=X_scaled_clusters,\n",
        "            group=\"kmeans_label\",outpath=\"../images/olist/radar-no-use.png\")"
      ],
      "metadata": {
        "colab": {
          "base_uri": "https://localhost:8080/",
          "height": 542
        },
        "id": "id2kljd0m0AO",
        "outputId": "c36d7484-d9a5-4186-dc36-3100480472d6"
      },
      "execution_count": null,
      "outputs": [
        {
          "output_type": "display_data",
          "data": {
            "text/html": [
              "<html>\n",
              "<head><meta charset=\"utf-8\" /></head>\n",
              "<body>\n",
              "    <div>            <script src=\"https://cdnjs.cloudflare.com/ajax/libs/mathjax/2.7.5/MathJax.js?config=TeX-AMS-MML_SVG\"></script><script type=\"text/javascript\">if (window.MathJax) {MathJax.Hub.Config({SVG: {font: \"STIX-Web\"}});}</script>                <script type=\"text/javascript\">window.PlotlyConfig = {MathJaxConfig: 'local'};</script>\n",
              "        <script src=\"https://cdn.plot.ly/plotly-2.8.3.min.js\"></script>                <div id=\"4786120e-6e1e-4d7f-b393-fbdc572f1bbb\" class=\"plotly-graph-div\" style=\"height:525px; width:100%;\"></div>            <script type=\"text/javascript\">                                    window.PLOTLYENV=window.PLOTLYENV || {};                                    if (document.getElementById(\"4786120e-6e1e-4d7f-b393-fbdc572f1bbb\")) {                    Plotly.newPlot(                        \"4786120e-6e1e-4d7f-b393-fbdc572f1bbb\",                        [{\"fill\":\"toself\",\"name\":\"Cluster 0\",\"r\":[1.0,0.4714354201006481,0.3196602775264039,0.4818421135350821,1.0000000000000002,0.0,0.0027591092444897297,0.0037118208630796392,0.0015649266333341027,0.002577331002034254,0.9961853670916073,0.0014718108436673305,0.0020481859955206083,0.5215351799251158,0.0,0.0,0.5215351799251158,0.22801774427925903,0.7795653088369923,0.0],\"theta\":[\"nb_orders\",\"total_spend\",\"mean_payment_sequential\",\"mean_payment_installments\",\"mean_review_score\",\"mean_delivery_days\",\"books_cds_media\",\"fashion_clothing_accessories\",\"flowers_gifts\",\"health_beauty\",\"other\",\"sport\",\"technology\",\"total_items\",\"order_mean_delay\",\"r_score\",\"f_score\",\"m_score\",\"freight_ratio\",\"harvesine_distance\"],\"type\":\"scatterpolar\"},{\"fill\":\"toself\",\"name\":\"Cluster 1\",\"r\":[0.8732484833422971,0.22511300736912254,0.0,0.0,0.8411028228872963,0.20813099106400168,0.0,0.0024417282338148175,0.0,0.0012791108232848255,0.0,1.0,0.0018237183763939882,0.46429578911596625,0.47596589847383897,0.48489985557391635,0.46429578911596625,0.0,0.4029469738782927,0.23490940937851246],\"theta\":[\"nb_orders\",\"total_spend\",\"mean_payment_sequential\",\"mean_payment_installments\",\"mean_review_score\",\"mean_delivery_days\",\"books_cds_media\",\"fashion_clothing_accessories\",\"flowers_gifts\",\"health_beauty\",\"other\",\"sport\",\"technology\",\"total_items\",\"order_mean_delay\",\"r_score\",\"f_score\",\"m_score\",\"freight_ratio\",\"harvesine_distance\"],\"type\":\"scatterpolar\"},{\"fill\":\"toself\",\"name\":\"Cluster 2\",\"r\":[0.0,0.0,0.7785901885296509,0.6701775073757466,0.991684966009222,0.12593349715111946,0.0026078848785444737,0.0,0.00013794335573765653,0.0,1.0000000000000002,0.0,0.0,0.0,1.0,1.0,0.0,0.08468715012243422,0.5212581616369976,0.5242799229043298],\"theta\":[\"nb_orders\",\"total_spend\",\"mean_payment_sequential\",\"mean_payment_installments\",\"mean_review_score\",\"mean_delivery_days\",\"books_cds_media\",\"fashion_clothing_accessories\",\"flowers_gifts\",\"health_beauty\",\"other\",\"sport\",\"technology\",\"total_items\",\"order_mean_delay\",\"r_score\",\"f_score\",\"m_score\",\"freight_ratio\",\"harvesine_distance\"],\"type\":\"scatterpolar\"},{\"fill\":\"toself\",\"name\":\"Cluster 3\",\"r\":[0.7745182395850394,0.31742268668937124,1.0,0.8929288772952564,0.8424223941944153,0.20634221411137377,0.9999999999999999,0.9999999999999999,1.0,1.0000000000000002,0.0002759190948889538,0.0006742564183428687,1.0,0.2527666598577736,0.606325920561918,0.6106992347902753,0.2527666598577736,0.17733784227882232,0.0,0.5567970171608501],\"theta\":[\"nb_orders\",\"total_spend\",\"mean_payment_sequential\",\"mean_payment_installments\",\"mean_review_score\",\"mean_delivery_days\",\"books_cds_media\",\"fashion_clothing_accessories\",\"flowers_gifts\",\"health_beauty\",\"other\",\"sport\",\"technology\",\"total_items\",\"order_mean_delay\",\"r_score\",\"f_score\",\"m_score\",\"freight_ratio\",\"harvesine_distance\"],\"type\":\"scatterpolar\"},{\"fill\":\"toself\",\"name\":\"Cluster 4\",\"r\":[0.8391126244370684,1.0,0.5093180078861237,1.0,0.0,1.0,0.0,0.003738796943075365,0.0034837795064082073,0.001808871765805847,0.9956345291487921,0.0016460087919095028,0.001524524386583864,0.9999999999999996,0.40148647812195715,0.40597376457421896,0.9999999999999996,1.0,1.0,1.0],\"theta\":[\"nb_orders\",\"total_spend\",\"mean_payment_sequential\",\"mean_payment_installments\",\"mean_review_score\",\"mean_delivery_days\",\"books_cds_media\",\"fashion_clothing_accessories\",\"flowers_gifts\",\"health_beauty\",\"other\",\"sport\",\"technology\",\"total_items\",\"order_mean_delay\",\"r_score\",\"f_score\",\"m_score\",\"freight_ratio\",\"harvesine_distance\"],\"type\":\"scatterpolar\"}],                        {\"template\":{\"data\":{\"bar\":[{\"error_x\":{\"color\":\"#2a3f5f\"},\"error_y\":{\"color\":\"#2a3f5f\"},\"marker\":{\"line\":{\"color\":\"#E5ECF6\",\"width\":0.5},\"pattern\":{\"fillmode\":\"overlay\",\"size\":10,\"solidity\":0.2}},\"type\":\"bar\"}],\"barpolar\":[{\"marker\":{\"line\":{\"color\":\"#E5ECF6\",\"width\":0.5},\"pattern\":{\"fillmode\":\"overlay\",\"size\":10,\"solidity\":0.2}},\"type\":\"barpolar\"}],\"carpet\":[{\"aaxis\":{\"endlinecolor\":\"#2a3f5f\",\"gridcolor\":\"white\",\"linecolor\":\"white\",\"minorgridcolor\":\"white\",\"startlinecolor\":\"#2a3f5f\"},\"baxis\":{\"endlinecolor\":\"#2a3f5f\",\"gridcolor\":\"white\",\"linecolor\":\"white\",\"minorgridcolor\":\"white\",\"startlinecolor\":\"#2a3f5f\"},\"type\":\"carpet\"}],\"choropleth\":[{\"colorbar\":{\"outlinewidth\":0,\"ticks\":\"\"},\"type\":\"choropleth\"}],\"contour\":[{\"colorbar\":{\"outlinewidth\":0,\"ticks\":\"\"},\"colorscale\":[[0.0,\"#0d0887\"],[0.1111111111111111,\"#46039f\"],[0.2222222222222222,\"#7201a8\"],[0.3333333333333333,\"#9c179e\"],[0.4444444444444444,\"#bd3786\"],[0.5555555555555556,\"#d8576b\"],[0.6666666666666666,\"#ed7953\"],[0.7777777777777778,\"#fb9f3a\"],[0.8888888888888888,\"#fdca26\"],[1.0,\"#f0f921\"]],\"type\":\"contour\"}],\"contourcarpet\":[{\"colorbar\":{\"outlinewidth\":0,\"ticks\":\"\"},\"type\":\"contourcarpet\"}],\"heatmap\":[{\"colorbar\":{\"outlinewidth\":0,\"ticks\":\"\"},\"colorscale\":[[0.0,\"#0d0887\"],[0.1111111111111111,\"#46039f\"],[0.2222222222222222,\"#7201a8\"],[0.3333333333333333,\"#9c179e\"],[0.4444444444444444,\"#bd3786\"],[0.5555555555555556,\"#d8576b\"],[0.6666666666666666,\"#ed7953\"],[0.7777777777777778,\"#fb9f3a\"],[0.8888888888888888,\"#fdca26\"],[1.0,\"#f0f921\"]],\"type\":\"heatmap\"}],\"heatmapgl\":[{\"colorbar\":{\"outlinewidth\":0,\"ticks\":\"\"},\"colorscale\":[[0.0,\"#0d0887\"],[0.1111111111111111,\"#46039f\"],[0.2222222222222222,\"#7201a8\"],[0.3333333333333333,\"#9c179e\"],[0.4444444444444444,\"#bd3786\"],[0.5555555555555556,\"#d8576b\"],[0.6666666666666666,\"#ed7953\"],[0.7777777777777778,\"#fb9f3a\"],[0.8888888888888888,\"#fdca26\"],[1.0,\"#f0f921\"]],\"type\":\"heatmapgl\"}],\"histogram\":[{\"marker\":{\"pattern\":{\"fillmode\":\"overlay\",\"size\":10,\"solidity\":0.2}},\"type\":\"histogram\"}],\"histogram2d\":[{\"colorbar\":{\"outlinewidth\":0,\"ticks\":\"\"},\"colorscale\":[[0.0,\"#0d0887\"],[0.1111111111111111,\"#46039f\"],[0.2222222222222222,\"#7201a8\"],[0.3333333333333333,\"#9c179e\"],[0.4444444444444444,\"#bd3786\"],[0.5555555555555556,\"#d8576b\"],[0.6666666666666666,\"#ed7953\"],[0.7777777777777778,\"#fb9f3a\"],[0.8888888888888888,\"#fdca26\"],[1.0,\"#f0f921\"]],\"type\":\"histogram2d\"}],\"histogram2dcontour\":[{\"colorbar\":{\"outlinewidth\":0,\"ticks\":\"\"},\"colorscale\":[[0.0,\"#0d0887\"],[0.1111111111111111,\"#46039f\"],[0.2222222222222222,\"#7201a8\"],[0.3333333333333333,\"#9c179e\"],[0.4444444444444444,\"#bd3786\"],[0.5555555555555556,\"#d8576b\"],[0.6666666666666666,\"#ed7953\"],[0.7777777777777778,\"#fb9f3a\"],[0.8888888888888888,\"#fdca26\"],[1.0,\"#f0f921\"]],\"type\":\"histogram2dcontour\"}],\"mesh3d\":[{\"colorbar\":{\"outlinewidth\":0,\"ticks\":\"\"},\"type\":\"mesh3d\"}],\"parcoords\":[{\"line\":{\"colorbar\":{\"outlinewidth\":0,\"ticks\":\"\"}},\"type\":\"parcoords\"}],\"pie\":[{\"automargin\":true,\"type\":\"pie\"}],\"scatter\":[{\"marker\":{\"colorbar\":{\"outlinewidth\":0,\"ticks\":\"\"}},\"type\":\"scatter\"}],\"scatter3d\":[{\"line\":{\"colorbar\":{\"outlinewidth\":0,\"ticks\":\"\"}},\"marker\":{\"colorbar\":{\"outlinewidth\":0,\"ticks\":\"\"}},\"type\":\"scatter3d\"}],\"scattercarpet\":[{\"marker\":{\"colorbar\":{\"outlinewidth\":0,\"ticks\":\"\"}},\"type\":\"scattercarpet\"}],\"scattergeo\":[{\"marker\":{\"colorbar\":{\"outlinewidth\":0,\"ticks\":\"\"}},\"type\":\"scattergeo\"}],\"scattergl\":[{\"marker\":{\"colorbar\":{\"outlinewidth\":0,\"ticks\":\"\"}},\"type\":\"scattergl\"}],\"scattermapbox\":[{\"marker\":{\"colorbar\":{\"outlinewidth\":0,\"ticks\":\"\"}},\"type\":\"scattermapbox\"}],\"scatterpolar\":[{\"marker\":{\"colorbar\":{\"outlinewidth\":0,\"ticks\":\"\"}},\"type\":\"scatterpolar\"}],\"scatterpolargl\":[{\"marker\":{\"colorbar\":{\"outlinewidth\":0,\"ticks\":\"\"}},\"type\":\"scatterpolargl\"}],\"scatterternary\":[{\"marker\":{\"colorbar\":{\"outlinewidth\":0,\"ticks\":\"\"}},\"type\":\"scatterternary\"}],\"surface\":[{\"colorbar\":{\"outlinewidth\":0,\"ticks\":\"\"},\"colorscale\":[[0.0,\"#0d0887\"],[0.1111111111111111,\"#46039f\"],[0.2222222222222222,\"#7201a8\"],[0.3333333333333333,\"#9c179e\"],[0.4444444444444444,\"#bd3786\"],[0.5555555555555556,\"#d8576b\"],[0.6666666666666666,\"#ed7953\"],[0.7777777777777778,\"#fb9f3a\"],[0.8888888888888888,\"#fdca26\"],[1.0,\"#f0f921\"]],\"type\":\"surface\"}],\"table\":[{\"cells\":{\"fill\":{\"color\":\"#EBF0F8\"},\"line\":{\"color\":\"white\"}},\"header\":{\"fill\":{\"color\":\"#C8D4E3\"},\"line\":{\"color\":\"white\"}},\"type\":\"table\"}]},\"layout\":{\"annotationdefaults\":{\"arrowcolor\":\"#2a3f5f\",\"arrowhead\":0,\"arrowwidth\":1},\"autotypenumbers\":\"strict\",\"coloraxis\":{\"colorbar\":{\"outlinewidth\":0,\"ticks\":\"\"}},\"colorscale\":{\"diverging\":[[0,\"#8e0152\"],[0.1,\"#c51b7d\"],[0.2,\"#de77ae\"],[0.3,\"#f1b6da\"],[0.4,\"#fde0ef\"],[0.5,\"#f7f7f7\"],[0.6,\"#e6f5d0\"],[0.7,\"#b8e186\"],[0.8,\"#7fbc41\"],[0.9,\"#4d9221\"],[1,\"#276419\"]],\"sequential\":[[0.0,\"#0d0887\"],[0.1111111111111111,\"#46039f\"],[0.2222222222222222,\"#7201a8\"],[0.3333333333333333,\"#9c179e\"],[0.4444444444444444,\"#bd3786\"],[0.5555555555555556,\"#d8576b\"],[0.6666666666666666,\"#ed7953\"],[0.7777777777777778,\"#fb9f3a\"],[0.8888888888888888,\"#fdca26\"],[1.0,\"#f0f921\"]],\"sequentialminus\":[[0.0,\"#0d0887\"],[0.1111111111111111,\"#46039f\"],[0.2222222222222222,\"#7201a8\"],[0.3333333333333333,\"#9c179e\"],[0.4444444444444444,\"#bd3786\"],[0.5555555555555556,\"#d8576b\"],[0.6666666666666666,\"#ed7953\"],[0.7777777777777778,\"#fb9f3a\"],[0.8888888888888888,\"#fdca26\"],[1.0,\"#f0f921\"]]},\"colorway\":[\"#636efa\",\"#EF553B\",\"#00cc96\",\"#ab63fa\",\"#FFA15A\",\"#19d3f3\",\"#FF6692\",\"#B6E880\",\"#FF97FF\",\"#FECB52\"],\"font\":{\"color\":\"#2a3f5f\"},\"geo\":{\"bgcolor\":\"white\",\"lakecolor\":\"white\",\"landcolor\":\"#E5ECF6\",\"showlakes\":true,\"showland\":true,\"subunitcolor\":\"white\"},\"hoverlabel\":{\"align\":\"left\"},\"hovermode\":\"closest\",\"mapbox\":{\"style\":\"light\"},\"paper_bgcolor\":\"white\",\"plot_bgcolor\":\"#E5ECF6\",\"polar\":{\"angularaxis\":{\"gridcolor\":\"white\",\"linecolor\":\"white\",\"ticks\":\"\"},\"bgcolor\":\"#E5ECF6\",\"radialaxis\":{\"gridcolor\":\"white\",\"linecolor\":\"white\",\"ticks\":\"\"}},\"scene\":{\"xaxis\":{\"backgroundcolor\":\"#E5ECF6\",\"gridcolor\":\"white\",\"gridwidth\":2,\"linecolor\":\"white\",\"showbackground\":true,\"ticks\":\"\",\"zerolinecolor\":\"white\"},\"yaxis\":{\"backgroundcolor\":\"#E5ECF6\",\"gridcolor\":\"white\",\"gridwidth\":2,\"linecolor\":\"white\",\"showbackground\":true,\"ticks\":\"\",\"zerolinecolor\":\"white\"},\"zaxis\":{\"backgroundcolor\":\"#E5ECF6\",\"gridcolor\":\"white\",\"gridwidth\":2,\"linecolor\":\"white\",\"showbackground\":true,\"ticks\":\"\",\"zerolinecolor\":\"white\"}},\"shapedefaults\":{\"line\":{\"color\":\"#2a3f5f\"}},\"ternary\":{\"aaxis\":{\"gridcolor\":\"white\",\"linecolor\":\"white\",\"ticks\":\"\"},\"baxis\":{\"gridcolor\":\"white\",\"linecolor\":\"white\",\"ticks\":\"\"},\"bgcolor\":\"#E5ECF6\",\"caxis\":{\"gridcolor\":\"white\",\"linecolor\":\"white\",\"ticks\":\"\"}},\"title\":{\"x\":0.05},\"xaxis\":{\"automargin\":true,\"gridcolor\":\"white\",\"linecolor\":\"white\",\"ticks\":\"\",\"title\":{\"standoff\":15},\"zerolinecolor\":\"white\",\"zerolinewidth\":2},\"yaxis\":{\"automargin\":true,\"gridcolor\":\"white\",\"linecolor\":\"white\",\"ticks\":\"\",\"title\":{\"standoff\":15},\"zerolinecolor\":\"white\",\"zerolinewidth\":2}}},\"polar\":{\"radialaxis\":{\"visible\":true,\"range\":[0,1]}},\"title\":{\"font\":{\"color\":\"blue\",\"size\":18},\"text\":\"Comparaison des moyennes par variable des clusters\",\"y\":0.95,\"x\":0.5,\"xanchor\":\"center\",\"yanchor\":\"top\"},\"showlegend\":true},                        {\"responsive\": true}                    ).then(function(){\n",
              "                            \n",
              "var gd = document.getElementById('4786120e-6e1e-4d7f-b393-fbdc572f1bbb');\n",
              "var x = new MutationObserver(function (mutations, observer) {{\n",
              "        var display = window.getComputedStyle(gd).display;\n",
              "        if (!display || display === 'none') {{\n",
              "            console.log([gd, 'removed!']);\n",
              "            Plotly.purge(gd);\n",
              "            observer.disconnect();\n",
              "        }}\n",
              "}});\n",
              "\n",
              "// Listen for the removal of the full notebook cells\n",
              "var notebookContainer = gd.closest('#notebook-container');\n",
              "if (notebookContainer) {{\n",
              "    x.observe(notebookContainer, {childList: true});\n",
              "}}\n",
              "\n",
              "// Listen for the clearing of the current output cell\n",
              "var outputEl = gd.closest('.output');\n",
              "if (outputEl) {{\n",
              "    x.observe(outputEl, {childList: true});\n",
              "}}\n",
              "\n",
              "                        })                };                            </script>        </div>\n",
              "</body>\n",
              "</html>"
            ]
          },
          "metadata": {}
        }
      ]
    },
    {
      "cell_type": "markdown",
      "source": [
        "Le poids des features de catégories de produits masque les autres axes de catégorisation, nous allons donc réaliser un nouveau K-Means en supprimant ces variables"
      ],
      "metadata": {
        "id": "E0OdJb6Ym3m_"
      }
    },
    {
      "cell_type": "markdown",
      "source": [
        "**Clustering sans les catégories produits**\n"
      ],
      "metadata": {
        "id": "eRQ5qiXHm7EW"
      }
    },
    {
      "cell_type": "code",
      "source": [
        "categories_col = ['books_cds_media',\n",
        "                  'fashion_clothing_accessories',\n",
        "                  'flowers_gifts',\n",
        "                  'health_beauty',\n",
        "                  'other',\n",
        "                  'sport',\n",
        "                  'technology']\n",
        "X_bis = X.drop(categories_col, axis=1)\n",
        "''' X_bis.head(3) '''\n",
        "''' 'groceries_food_drink',\n",
        "'home_furniture',\n",
        "'toys_baby' '''"
      ],
      "metadata": {
        "colab": {
          "base_uri": "https://localhost:8080/",
          "height": 35
        },
        "id": "ey8Cqt-dnAIS",
        "outputId": "86c0eeda-671d-4658-a377-b3edf057ce9e"
      },
      "execution_count": null,
      "outputs": [
        {
          "output_type": "execute_result",
          "data": {
            "text/plain": [
              "\" 'groceries_food_drink',\\n'home_furniture',\\n'toys_baby' \""
            ],
            "application/vnd.google.colaboratory.intrinsic+json": {
              "type": "string"
            }
          },
          "metadata": {},
          "execution_count": 35
        }
      ]
    },
    {
      "cell_type": "code",
      "source": [
        "def clustering_eval(preprocessor, model, data, metric, outpath, elbow=True, mds=False, KBest=None):\n",
        "\n",
        "    if((elbow==True) & (mds==True)):\n",
        "        ncols=3\n",
        "    elif((elbow==False) | (mds==False)):\n",
        "        ncols=2\n",
        "    else:\n",
        "        ncols=1\n",
        "\n",
        "    fig, axes = plt.subplots(nrows=1, ncols=ncols, sharex=False, sharey=False, figsize=(24,8))\n",
        "\n",
        "    ax=0\n",
        "    if(elbow==True):\n",
        "        # Elbow visualizer\n",
        "        kmeans_visualizer = Pipeline([\n",
        "            (\"preprocessor\", preprocessor),\n",
        "            (\"kelbowvisualizer\", KElbowVisualizer(model,K=(4,12), metric=metric, ax=axes[ax]))])\n",
        "        kmeans_visualizer.fit(data)\n",
        "        KBest = kmeans_visualizer.named_steps['kelbowvisualizer'].elbow_value_\n",
        "        kmeans_visualizer.named_steps['kelbowvisualizer'].finalize()\n",
        "        ax+=1\n",
        "\n",
        "    # Set best K\n",
        "    K = KBest\n",
        "    model.set_params(n_clusters=K)\n",
        "\n",
        "    # Silhouette Visualizer\n",
        "    silhouette_visualizer = Pipeline([\n",
        "        (\"preprocessor\", preprocessor),\n",
        "        (\"silhouettevisualizer\", SilhouetteVisualizer(model, ax=axes[ax]))])\n",
        "    silhouette_visualizer.fit(data)\n",
        "    silhouette_visualizer.named_steps['silhouettevisualizer'].finalize()\n",
        "    ax+=1\n",
        "    # Intercluster distance Map with best k\n",
        "    if(mds==True):\n",
        "        distance_visualizer = Pipeline([\n",
        "            (\"preprocessor\", preprocessor),\n",
        "            (\"distancevisualizer\", InterclusterDistance(model, ax=axes[ax]))])\n",
        "        distance_visualizer.fit(data)\n",
        "        distance_visualizer.named_steps['distancevisualizer'].finalize()\n",
        "\n",
        "    return K\n",
        "    plt.savefig(outpath)\n",
        "    plt.show()"
      ],
      "metadata": {
        "id": "oYCBnTZTnIYR"
      },
      "execution_count": null,
      "outputs": []
    },
    {
      "cell_type": "code",
      "source": [
        "#drop favorite_sale_month\n",
        "X_bis = X_bis.drop('favorite_sale_month', axis=1)"
      ],
      "metadata": {
        "id": "WGHxEvsZxcml"
      },
      "execution_count": null,
      "outputs": []
    },
    {
      "cell_type": "code",
      "source": [
        "numerical_features = list(X_bis.select_dtypes(include=['int64','float64', 'uint8']).columns)\n",
        "numerical_features"
      ],
      "metadata": {
        "colab": {
          "base_uri": "https://localhost:8080/"
        },
        "id": "31OZ9JfO4WDs",
        "outputId": "ce974eb8-ab3f-4485-b1f6-ac2c40367317"
      },
      "execution_count": null,
      "outputs": [
        {
          "output_type": "execute_result",
          "data": {
            "text/plain": [
              "['nb_orders',\n",
              " 'total_spend',\n",
              " 'mean_payment_sequential',\n",
              " 'mean_payment_installments',\n",
              " 'mean_review_score',\n",
              " 'mean_delivery_days',\n",
              " 'total_items',\n",
              " 'order_mean_delay',\n",
              " 'r_score',\n",
              " 'f_score',\n",
              " 'm_score',\n",
              " 'freight_ratio',\n",
              " 'harvesine_distance']"
            ]
          },
          "metadata": {},
          "execution_count": 38
        }
      ]
    },
    {
      "cell_type": "code",
      "source": [
        "scaler = MinMaxScaler()\n",
        "\n",
        "preprocessor = ColumnTransformer([\n",
        "    ('scaler', scaler, numerical_features)])"
      ],
      "metadata": {
        "id": "JZmbxPwv4V1p"
      },
      "execution_count": null,
      "outputs": []
    },
    {
      "cell_type": "code",
      "source": [
        "K = clustering_eval(preprocessor=MinMaxScaler(),\n",
        "                model=KMeans(),\n",
        "                data=X_bis,\n",
        "                metric=\"distortion\",\n",
        "                outpath=\"../images/olist/elbow-silhouette-global.png\",\n",
        "                elbow=True,\n",
        "                mds=False,\n",
        "                KBest=None,\n",
        "                )"
      ],
      "metadata": {
        "colab": {
          "base_uri": "https://localhost:8080/",
          "height": 318
        },
        "id": "rQmBHPRUncUg",
        "outputId": "2444f39d-b74c-4772-876b-4885e8a5feb3"
      },
      "execution_count": null,
      "outputs": [
        {
          "output_type": "display_data",
          "data": {
            "text/plain": [
              "<Figure size 1728x576 with 3 Axes>"
            ],
            "image/png": "[encoded data removed]"
          },
          "metadata": {}
        }
      ]
    },
    {
      "cell_type": "code",
      "source": [
        "X_bis.info()"
      ],
      "metadata": {
        "colab": {
          "base_uri": "https://localhost:8080/"
        },
        "id": "HwE0rLf21ztl",
        "outputId": "5582b912-6859-45b2-9c91-5fefd6a4fae2"
      },
      "execution_count": null,
      "outputs": [
        {
          "output_type": "stream",
          "name": "stdout",
          "text": [
            "<class 'pandas.core.frame.DataFrame'>\n",
            "Index: 96096 entries, 0000366f3b9a7992bf8c76cfdf3221e2 to ffffd2657e2aad2907e67c3e9daecbeb\n",
            "Data columns (total 13 columns):\n",
            " #   Column                     Non-Null Count  Dtype  \n",
            "---  ------                     --------------  -----  \n",
            " 0   nb_orders                  96096 non-null  int64  \n",
            " 1   total_spend                96096 non-null  float64\n",
            " 2   mean_payment_sequential    96096 non-null  float64\n",
            " 3   mean_payment_installments  96096 non-null  float64\n",
            " 4   mean_review_score          96096 non-null  float64\n",
            " 5   mean_delivery_days         96096 non-null  float64\n",
            " 6   total_items                96096 non-null  float64\n",
            " 7   order_mean_delay           96096 non-null  float64\n",
            " 8   r_score                    96096 non-null  float64\n",
            " 9   f_score                    96096 non-null  int64  \n",
            " 10  m_score                    96096 non-null  float64\n",
            " 11  freight_ratio              96096 non-null  float64\n",
            " 12  harvesine_distance         96096 non-null  float64\n",
            "dtypes: float64(11), int64(2)\n",
            "memory usage: 10.3+ MB\n"
          ]
        }
      ]
    },
    {
      "cell_type": "code",
      "source": [
        "# Intercluster distance Map with best k\n",
        "distance_visualizer = Pipeline([\n",
        "    (\"preprocessor\", preprocessor),\n",
        "    (\"distancevisualizer\", InterclusterDistance(KMeans(K)))])\n",
        "\n",
        "distance_visualizer.fit(X_bis)\n",
        "distance_visualizer.named_steps['distancevisualizer'].show(outpath=\"../images/olist/intercluster-distance-global.png\")"
      ],
      "metadata": {
        "colab": {
          "base_uri": "https://localhost:8080/",
          "height": 383
        },
        "id": "veWbMf-I0g3K",
        "outputId": "96d3ae90-ffe4-4e43-a4fa-4f32788c7908"
      },
      "execution_count": null,
      "outputs": [
        {
          "output_type": "execute_result",
          "data": {
            "text/plain": [
              "<matplotlib.axes._subplots.AxesSubplot at 0x7f70d5db13d0>"
            ]
          },
          "metadata": {},
          "execution_count": 42
        },
        {
          "output_type": "display_data",
          "data": {
            "text/plain": [
              "<Figure size 576x396 with 2 Axes>"
            ],
            "image/png": "[encoded data removed]"
          },
          "metadata": {}
        }
      ]
    },
    {
      "cell_type": "code",
      "source": [
        "# KMeans Pipeline with best K\n",
        "kmeans_model_bis = Pipeline([(\"preprocessor\", MinMaxScaler()),\n",
        "                             (\"kmeans\", KMeans(K))])\n",
        "kmeans_model_bis.fit(X_bis)\n",
        "\n",
        "# Kmeans labels\n",
        "kmeans_labels_bis = kmeans_model_bis.named_steps['kmeans'].labels_\n",
        "X_bis['kmeans_label'] = kmeans_labels_bis\n",
        "\n",
        "\n",
        "\n"
      ],
      "metadata": {
        "id": "CNHKHzScnheP"
      },
      "execution_count": null,
      "outputs": []
    },
    {
      "cell_type": "code",
      "source": [
        "kmeans_clusters_means_bis = X_bis.groupby(\"kmeans_label\").mean().reset_index()\n",
        "kmeans_clusters_means_bis"
      ],
      "metadata": {
        "colab": {
          "base_uri": "https://localhost:8080/",
          "height": 239
        },
        "id": "knKOQ-yp6E8N",
        "outputId": "91f106f2-e69b-4990-be40-7427bb11b468"
      },
      "execution_count": null,
      "outputs": [
        {
          "output_type": "execute_result",
          "data": {
            "text/plain": [
              "   kmeans_label  nb_orders  total_spend  mean_payment_sequential  \\\n",
              "0             0   0.982787   191.949413                 1.046721   \n",
              "1             1   1.057269   159.057691                 1.036967   \n",
              "2             2   1.029067   183.040290                 1.044833   \n",
              "3             3   0.931741   142.903267                 1.047430   \n",
              "\n",
              "   mean_payment_installments  mean_review_score  mean_delivery_days  \\\n",
              "0                   3.322554           4.533775           18.189104   \n",
              "1                   2.737411           4.694136            9.795595   \n",
              "2                   3.141198           1.671153           18.948740   \n",
              "3                   2.901083           4.677058           10.800965   \n",
              "\n",
              "   total_items  order_mean_delay     r_score   f_score     m_score  \\\n",
              "0     1.077049        240.967641  245.538993  1.077049  190.557161   \n",
              "1     1.181530        114.808565  121.450475  1.181530  151.131518   \n",
              "2     1.317562        227.329081  232.247199  1.317562  178.803482   \n",
              "3     1.039466        381.614402  382.612287  1.039466  148.015303   \n",
              "\n",
              "   freight_ratio  harvesine_distance  \n",
              "0       0.266021         1392.927817  \n",
              "1       0.200774          314.225862  \n",
              "2       0.212416          450.127362  \n",
              "3       0.193172          331.732484  "
            ],
            "text/html": [
              "\n",
              "  <div id=\"df-58d48e22-68fc-4340-8acc-368bb05a5224\">\n",
              "    <div class=\"colab-df-container\">\n",
              "      <div>\n",
              "<style scoped>\n",
              "    .dataframe tbody tr th:only-of-type {\n",
              "        vertical-align: middle;\n",
              "    }\n",
              "\n",
              "    .dataframe tbody tr th {\n",
              "        vertical-align: top;\n",
              "    }\n",
              "\n",
              "    .dataframe thead th {\n",
              "        text-align: right;\n",
              "    }\n",
              "</style>\n",
              "<table border=\"1\" class=\"dataframe\">\n",
              "  <thead>\n",
              "    <tr style=\"text-align: right;\">\n",
              "      <th></th>\n",
              "      <th>kmeans_label</th>\n",
              "      <th>nb_orders</th>\n",
              "      <th>total_spend</th>\n",
              "      <th>mean_payment_sequential</th>\n",
              "      <th>mean_payment_installments</th>\n",
              "      <th>mean_review_score</th>\n",
              "      <th>mean_delivery_days</th>\n",
              "      <th>total_items</th>\n",
              "      <th>order_mean_delay</th>\n",
              "      <th>r_score</th>\n",
              "      <th>f_score</th>\n",
              "      <th>m_score</th>\n",
              "      <th>freight_ratio</th>\n",
              "      <th>harvesine_distance</th>\n",
              "    </tr>\n",
              "  </thead>\n",
              "  <tbody>\n",
              "    <tr>\n",
              "      <th>0</th>\n",
              "      <td>0</td>\n",
              "      <td>0.982787</td>\n",
              "      <td>191.949413</td>\n",
              "      <td>1.046721</td>\n",
              "      <td>3.322554</td>\n",
              "      <td>4.533775</td>\n",
              "      <td>18.189104</td>\n",
              "      <td>1.077049</td>\n",
              "      <td>240.967641</td>\n",
              "      <td>245.538993</td>\n",
              "      <td>1.077049</td>\n",
              "      <td>190.557161</td>\n",
              "      <td>0.266021</td>\n",
              "      <td>1392.927817</td>\n",
              "    </tr>\n",
              "    <tr>\n",
              "      <th>1</th>\n",
              "      <td>1</td>\n",
              "      <td>1.057269</td>\n",
              "      <td>159.057691</td>\n",
              "      <td>1.036967</td>\n",
              "      <td>2.737411</td>\n",
              "      <td>4.694136</td>\n",
              "      <td>9.795595</td>\n",
              "      <td>1.181530</td>\n",
              "      <td>114.808565</td>\n",
              "      <td>121.450475</td>\n",
              "      <td>1.181530</td>\n",
              "      <td>151.131518</td>\n",
              "      <td>0.200774</td>\n",
              "      <td>314.225862</td>\n",
              "    </tr>\n",
              "    <tr>\n",
              "      <th>2</th>\n",
              "      <td>2</td>\n",
              "      <td>1.029067</td>\n",
              "      <td>183.040290</td>\n",
              "      <td>1.044833</td>\n",
              "      <td>3.141198</td>\n",
              "      <td>1.671153</td>\n",
              "      <td>18.948740</td>\n",
              "      <td>1.317562</td>\n",
              "      <td>227.329081</td>\n",
              "      <td>232.247199</td>\n",
              "      <td>1.317562</td>\n",
              "      <td>178.803482</td>\n",
              "      <td>0.212416</td>\n",
              "      <td>450.127362</td>\n",
              "    </tr>\n",
              "    <tr>\n",
              "      <th>3</th>\n",
              "      <td>3</td>\n",
              "      <td>0.931741</td>\n",
              "      <td>142.903267</td>\n",
              "      <td>1.047430</td>\n",
              "      <td>2.901083</td>\n",
              "      <td>4.677058</td>\n",
              "      <td>10.800965</td>\n",
              "      <td>1.039466</td>\n",
              "      <td>381.614402</td>\n",
              "      <td>382.612287</td>\n",
              "      <td>1.039466</td>\n",
              "      <td>148.015303</td>\n",
              "      <td>0.193172</td>\n",
              "      <td>331.732484</td>\n",
              "    </tr>\n",
              "  </tbody>\n",
              "</table>\n",
              "</div>\n",
              "      <button class=\"colab-df-convert\" onclick=\"convertToInteractive('df-58d48e22-68fc-4340-8acc-368bb05a5224')\"\n",
              "              title=\"Convert this dataframe to an interactive table.\"\n",
              "              style=\"display:none;\">\n",
              "        \n",
              "  <svg xmlns=\"http://www.w3.org/2000/svg\" height=\"24px\"viewBox=\"0 0 24 24\"\n",
              "       width=\"24px\">\n",
              "    <path d=\"M0 0h24v24H0V0z\" fill=\"none\"/>\n",
              "    <path d=\"M18.56 5.44l.94 2.06.94-2.06 2.06-.94-2.06-.94-.94-2.06-.94 2.06-2.06.94zm-11 1L8.5 8.5l.94-2.06 2.06-.94-2.06-.94L8.5 2.5l-.94 2.06-2.06.94zm10 10l.94 2.06.94-2.06 2.06-.94-2.06-.94-.94-2.06-.94 2.06-2.06.94z\"/><path d=\"M17.41 7.96l-1.37-1.37c-.4-.4-.92-.59-1.43-.59-.52 0-1.04.2-1.43.59L10.3 9.45l-7.72 7.72c-.78.78-.78 2.05 0 2.83L4 21.41c.39.39.9.59 1.41.59.51 0 1.02-.2 1.41-.59l7.78-7.78 2.81-2.81c.8-.78.8-2.07 0-2.86zM5.41 20L4 18.59l7.72-7.72 1.47 1.35L5.41 20z\"/>\n",
              "  </svg>\n",
              "      </button>\n",
              "      \n",
              "  <style>\n",
              "    .colab-df-container {\n",
              "      display:flex;\n",
              "      flex-wrap:wrap;\n",
              "      gap: 12px;\n",
              "    }\n",
              "\n",
              "    .colab-df-convert {\n",
              "      background-color: #E8F0FE;\n",
              "      border: none;\n",
              "      border-radius: 50%;\n",
              "      cursor: pointer;\n",
              "      display: none;\n",
              "      fill: #1967D2;\n",
              "      height: 32px;\n",
              "      padding: 0 0 0 0;\n",
              "      width: 32px;\n",
              "    }\n",
              "\n",
              "    .colab-df-convert:hover {\n",
              "      background-color: #E2EBFA;\n",
              "      box-shadow: 0px 1px 2px rgba(60, 64, 67, 0.3), 0px 1px 3px 1px rgba(60, 64, 67, 0.15);\n",
              "      fill: #174EA6;\n",
              "    }\n",
              "\n",
              "    [theme=dark] .colab-df-convert {\n",
              "      background-color: #3B4455;\n",
              "      fill: #D2E3FC;\n",
              "    }\n",
              "\n",
              "    [theme=dark] .colab-df-convert:hover {\n",
              "      background-color: #434B5C;\n",
              "      box-shadow: 0px 1px 3px 1px rgba(0, 0, 0, 0.15);\n",
              "      filter: drop-shadow(0px 1px 2px rgba(0, 0, 0, 0.3));\n",
              "      fill: #FFFFFF;\n",
              "    }\n",
              "  </style>\n",
              "\n",
              "      <script>\n",
              "        const buttonEl =\n",
              "          document.querySelector('#df-58d48e22-68fc-4340-8acc-368bb05a5224 button.colab-df-convert');\n",
              "        buttonEl.style.display =\n",
              "          google.colab.kernel.accessAllowed ? 'block' : 'none';\n",
              "\n",
              "        async function convertToInteractive(key) {\n",
              "          const element = document.querySelector('#df-58d48e22-68fc-4340-8acc-368bb05a5224');\n",
              "          const dataTable =\n",
              "            await google.colab.kernel.invokeFunction('convertToInteractive',\n",
              "                                                     [key], {});\n",
              "          if (!dataTable) return;\n",
              "\n",
              "          const docLinkHtml = 'Like what you see? Visit the ' +\n",
              "            '<a target=\"_blank\" href=https://colab.research.google.com/notebooks/data_table.ipynb>data table notebook</a>'\n",
              "            + ' to learn more about interactive tables.';\n",
              "          element.innerHTML = '';\n",
              "          dataTable['output_type'] = 'display_data';\n",
              "          await google.colab.output.renderOutput(dataTable, element);\n",
              "          const docLink = document.createElement('div');\n",
              "          docLink.innerHTML = docLinkHtml;\n",
              "          element.appendChild(docLink);\n",
              "        }\n",
              "      </script>\n",
              "    </div>\n",
              "  </div>\n",
              "  "
            ]
          },
          "metadata": {},
          "execution_count": 44
        }
      ]
    },
    {
      "cell_type": "markdown",
      "source": [
        "**Interprétation**\n",
        "* Groupe 0 : Les clients sont assez éloignés géographiquement, ils sont plutôt satisfaits et ont passé en moyenne une commande sur les 8 derniers mois avec un panier moyen de 190.\n",
        "* Groupe 1 : Les clients sont satisfaits, proches géographiquement, et ont passé en moyenne une commande sur les 4 derniers mois avec un panier moyen de 150\n",
        "* Groupe 2 : Les clients ne sont pas satisfaits, sont assez proches géographiquement et ont passé en moyenne une commande sur les 8 derniers mois avec un panier moyen de 178\n",
        "* Groupe 3 : Les clients sont satisfaits et ont passé en moyenne une commande en un an avec un panier moyen de 148"
      ],
      "metadata": {
        "id": "xMdfuSth_RAR"
      }
    },
    {
      "cell_type": "code",
      "source": [
        "# Scale X\n",
        "scaler = MinMaxScaler()\n",
        "X_scaled_bis = scaler.fit_transform(X_bis)\n",
        "X_scaled_bis = pd.DataFrame(X_scaled_bis, index=X_bis.index, columns=X_bis.columns)\n",
        "X_scaled_bis[\"kmeans_label\"] = kmeans_labels_bis\n",
        "\n",
        "# Group by cluster\n",
        "X_scaled_clusters_bis = X_scaled_bis.groupby(\"kmeans_label\").mean()\n",
        "X_scaled_clusters_bis"
      ],
      "metadata": {
        "colab": {
          "base_uri": "https://localhost:8080/",
          "height": 270
        },
        "id": "GZvqVVHE6JeQ",
        "outputId": "5ab54ff3-10bc-43e4-ad7b-786b8b3ab876"
      },
      "execution_count": null,
      "outputs": [
        {
          "output_type": "execute_result",
          "data": {
            "text/plain": [
              "              nb_orders  total_spend  mean_payment_sequential  \\\n",
              "kmeans_label                                                    \n",
              "0              0.065519     0.014048                 0.001869   \n",
              "1              0.070485     0.011641                 0.001479   \n",
              "2              0.068604     0.013396                 0.001793   \n",
              "3              0.062116     0.010458                 0.001897   \n",
              "\n",
              "              mean_payment_installments  mean_review_score  \\\n",
              "kmeans_label                                                 \n",
              "0                              0.127791           0.883444   \n",
              "1                              0.105285           0.923534   \n",
              "2                              0.120815           0.167788   \n",
              "3                              0.111580           0.919265   \n",
              "\n",
              "              mean_delivery_days  total_items  order_mean_delay   r_score  \\\n",
              "kmeans_label                                                                \n",
              "0                       0.082245     0.044877          0.346716  0.353803   \n",
              "1                       0.042084     0.049230          0.165192  0.175001   \n",
              "2                       0.085879     0.054898          0.327092  0.334650   \n",
              "3                       0.046895     0.043311          0.549085  0.551315   \n",
              "\n",
              "               f_score   m_score  freight_ratio  harvesine_distance  \n",
              "kmeans_label                                                         \n",
              "0             0.044877  0.013253       0.277105            0.649071  \n",
              "1             0.049230  0.010366       0.209140            0.103937  \n",
              "2             0.054898  0.012393       0.221266            0.172616  \n",
              "3             0.043311  0.010138       0.201221            0.112784  "
            ],
            "text/html": [
              "\n",
              "  <div id=\"df-7d1790c6-b361-4f84-989b-0763d83c6d1f\">\n",
              "    <div class=\"colab-df-container\">\n",
              "      <div>\n",
              "<style scoped>\n",
              "    .dataframe tbody tr th:only-of-type {\n",
              "        vertical-align: middle;\n",
              "    }\n",
              "\n",
              "    .dataframe tbody tr th {\n",
              "        vertical-align: top;\n",
              "    }\n",
              "\n",
              "    .dataframe thead th {\n",
              "        text-align: right;\n",
              "    }\n",
              "</style>\n",
              "<table border=\"1\" class=\"dataframe\">\n",
              "  <thead>\n",
              "    <tr style=\"text-align: right;\">\n",
              "      <th></th>\n",
              "      <th>nb_orders</th>\n",
              "      <th>total_spend</th>\n",
              "      <th>mean_payment_sequential</th>\n",
              "      <th>mean_payment_installments</th>\n",
              "      <th>mean_review_score</th>\n",
              "      <th>mean_delivery_days</th>\n",
              "      <th>total_items</th>\n",
              "      <th>order_mean_delay</th>\n",
              "      <th>r_score</th>\n",
              "      <th>f_score</th>\n",
              "      <th>m_score</th>\n",
              "      <th>freight_ratio</th>\n",
              "      <th>harvesine_distance</th>\n",
              "    </tr>\n",
              "    <tr>\n",
              "      <th>kmeans_label</th>\n",
              "      <th></th>\n",
              "      <th></th>\n",
              "      <th></th>\n",
              "      <th></th>\n",
              "      <th></th>\n",
              "      <th></th>\n",
              "      <th></th>\n",
              "      <th></th>\n",
              "      <th></th>\n",
              "      <th></th>\n",
              "      <th></th>\n",
              "      <th></th>\n",
              "      <th></th>\n",
              "    </tr>\n",
              "  </thead>\n",
              "  <tbody>\n",
              "    <tr>\n",
              "      <th>0</th>\n",
              "      <td>0.065519</td>\n",
              "      <td>0.014048</td>\n",
              "      <td>0.001869</td>\n",
              "      <td>0.127791</td>\n",
              "      <td>0.883444</td>\n",
              "      <td>0.082245</td>\n",
              "      <td>0.044877</td>\n",
              "      <td>0.346716</td>\n",
              "      <td>0.353803</td>\n",
              "      <td>0.044877</td>\n",
              "      <td>0.013253</td>\n",
              "      <td>0.277105</td>\n",
              "      <td>0.649071</td>\n",
              "    </tr>\n",
              "    <tr>\n",
              "      <th>1</th>\n",
              "      <td>0.070485</td>\n",
              "      <td>0.011641</td>\n",
              "      <td>0.001479</td>\n",
              "      <td>0.105285</td>\n",
              "      <td>0.923534</td>\n",
              "      <td>0.042084</td>\n",
              "      <td>0.049230</td>\n",
              "      <td>0.165192</td>\n",
              "      <td>0.175001</td>\n",
              "      <td>0.049230</td>\n",
              "      <td>0.010366</td>\n",
              "      <td>0.209140</td>\n",
              "      <td>0.103937</td>\n",
              "    </tr>\n",
              "    <tr>\n",
              "      <th>2</th>\n",
              "      <td>0.068604</td>\n",
              "      <td>0.013396</td>\n",
              "      <td>0.001793</td>\n",
              "      <td>0.120815</td>\n",
              "      <td>0.167788</td>\n",
              "      <td>0.085879</td>\n",
              "      <td>0.054898</td>\n",
              "      <td>0.327092</td>\n",
              "      <td>0.334650</td>\n",
              "      <td>0.054898</td>\n",
              "      <td>0.012393</td>\n",
              "      <td>0.221266</td>\n",
              "      <td>0.172616</td>\n",
              "    </tr>\n",
              "    <tr>\n",
              "      <th>3</th>\n",
              "      <td>0.062116</td>\n",
              "      <td>0.010458</td>\n",
              "      <td>0.001897</td>\n",
              "      <td>0.111580</td>\n",
              "      <td>0.919265</td>\n",
              "      <td>0.046895</td>\n",
              "      <td>0.043311</td>\n",
              "      <td>0.549085</td>\n",
              "      <td>0.551315</td>\n",
              "      <td>0.043311</td>\n",
              "      <td>0.010138</td>\n",
              "      <td>0.201221</td>\n",
              "      <td>0.112784</td>\n",
              "    </tr>\n",
              "  </tbody>\n",
              "</table>\n",
              "</div>\n",
              "      <button class=\"colab-df-convert\" onclick=\"convertToInteractive('df-7d1790c6-b361-4f84-989b-0763d83c6d1f')\"\n",
              "              title=\"Convert this dataframe to an interactive table.\"\n",
              "              style=\"display:none;\">\n",
              "        \n",
              "  <svg xmlns=\"http://www.w3.org/2000/svg\" height=\"24px\"viewBox=\"0 0 24 24\"\n",
              "       width=\"24px\">\n",
              "    <path d=\"M0 0h24v24H0V0z\" fill=\"none\"/>\n",
              "    <path d=\"M18.56 5.44l.94 2.06.94-2.06 2.06-.94-2.06-.94-.94-2.06-.94 2.06-2.06.94zm-11 1L8.5 8.5l.94-2.06 2.06-.94-2.06-.94L8.5 2.5l-.94 2.06-2.06.94zm10 10l.94 2.06.94-2.06 2.06-.94-2.06-.94-.94-2.06-.94 2.06-2.06.94z\"/><path d=\"M17.41 7.96l-1.37-1.37c-.4-.4-.92-.59-1.43-.59-.52 0-1.04.2-1.43.59L10.3 9.45l-7.72 7.72c-.78.78-.78 2.05 0 2.83L4 21.41c.39.39.9.59 1.41.59.51 0 1.02-.2 1.41-.59l7.78-7.78 2.81-2.81c.8-.78.8-2.07 0-2.86zM5.41 20L4 18.59l7.72-7.72 1.47 1.35L5.41 20z\"/>\n",
              "  </svg>\n",
              "      </button>\n",
              "      \n",
              "  <style>\n",
              "    .colab-df-container {\n",
              "      display:flex;\n",
              "      flex-wrap:wrap;\n",
              "      gap: 12px;\n",
              "    }\n",
              "\n",
              "    .colab-df-convert {\n",
              "      background-color: #E8F0FE;\n",
              "      border: none;\n",
              "      border-radius: 50%;\n",
              "      cursor: pointer;\n",
              "      display: none;\n",
              "      fill: #1967D2;\n",
              "      height: 32px;\n",
              "      padding: 0 0 0 0;\n",
              "      width: 32px;\n",
              "    }\n",
              "\n",
              "    .colab-df-convert:hover {\n",
              "      background-color: #E2EBFA;\n",
              "      box-shadow: 0px 1px 2px rgba(60, 64, 67, 0.3), 0px 1px 3px 1px rgba(60, 64, 67, 0.15);\n",
              "      fill: #174EA6;\n",
              "    }\n",
              "\n",
              "    [theme=dark] .colab-df-convert {\n",
              "      background-color: #3B4455;\n",
              "      fill: #D2E3FC;\n",
              "    }\n",
              "\n",
              "    [theme=dark] .colab-df-convert:hover {\n",
              "      background-color: #434B5C;\n",
              "      box-shadow: 0px 1px 3px 1px rgba(0, 0, 0, 0.15);\n",
              "      filter: drop-shadow(0px 1px 2px rgba(0, 0, 0, 0.3));\n",
              "      fill: #FFFFFF;\n",
              "    }\n",
              "  </style>\n",
              "\n",
              "      <script>\n",
              "        const buttonEl =\n",
              "          document.querySelector('#df-7d1790c6-b361-4f84-989b-0763d83c6d1f button.colab-df-convert');\n",
              "        buttonEl.style.display =\n",
              "          google.colab.kernel.accessAllowed ? 'block' : 'none';\n",
              "\n",
              "        async function convertToInteractive(key) {\n",
              "          const element = document.querySelector('#df-7d1790c6-b361-4f84-989b-0763d83c6d1f');\n",
              "          const dataTable =\n",
              "            await google.colab.kernel.invokeFunction('convertToInteractive',\n",
              "                                                     [key], {});\n",
              "          if (!dataTable) return;\n",
              "\n",
              "          const docLinkHtml = 'Like what you see? Visit the ' +\n",
              "            '<a target=\"_blank\" href=https://colab.research.google.com/notebooks/data_table.ipynb>data table notebook</a>'\n",
              "            + ' to learn more about interactive tables.';\n",
              "          element.innerHTML = '';\n",
              "          dataTable['output_type'] = 'display_data';\n",
              "          await google.colab.output.renderOutput(dataTable, element);\n",
              "          const docLink = document.createElement('div');\n",
              "          docLink.innerHTML = docLinkHtml;\n",
              "          element.appendChild(docLink);\n",
              "        }\n",
              "      </script>\n",
              "    </div>\n",
              "  </div>\n",
              "  "
            ]
          },
          "metadata": {},
          "execution_count": 45
        }
      ]
    },
    {
      "cell_type": "code",
      "source": [
        "# Plot Radar chart\n",
        "plot_radars(data=X_scaled_clusters_bis,\n",
        "            group=\"kmeans_label\",outpath=\"../images/olist/radar-global.png\")"
      ],
      "metadata": {
        "colab": {
          "base_uri": "https://localhost:8080/",
          "height": 542
        },
        "id": "39o-T98h5K95",
        "outputId": "4dc5465e-6929-4b70-97ce-be5e51608b6f"
      },
      "execution_count": null,
      "outputs": [
        {
          "output_type": "display_data",
          "data": {
            "text/html": [
              "<html>\n",
              "<head><meta charset=\"utf-8\" /></head>\n",
              "<body>\n",
              "    <div>            <script src=\"https://cdnjs.cloudflare.com/ajax/libs/mathjax/2.7.5/MathJax.js?config=TeX-AMS-MML_SVG\"></script><script type=\"text/javascript\">if (window.MathJax) {MathJax.Hub.Config({SVG: {font: \"STIX-Web\"}});}</script>                <script type=\"text/javascript\">window.PlotlyConfig = {MathJaxConfig: 'local'};</script>\n",
              "        <script src=\"https://cdn.plot.ly/plotly-2.8.3.min.js\"></script>                <div id=\"47a177b8-5473-4db2-b049-44187e24ec08\" class=\"plotly-graph-div\" style=\"height:525px; width:100%;\"></div>            <script type=\"text/javascript\">                                    window.PLOTLYENV=window.PLOTLYENV || {};                                    if (document.getElementById(\"47a177b8-5473-4db2-b049-44187e24ec08\")) {                    Plotly.newPlot(                        \"47a177b8-5473-4db2-b049-44187e24ec08\",                        [{\"fill\":\"toself\",\"name\":\"Cluster 0\",\"r\":[0.40664960112247783,1.0,0.9322728756862584,1.0,0.9469526844299944,0.9170081669174694,0.13514361077486825,0.4728497601293598,0.4751403634191982,0.13514361077486825,1.0,1.0,1.0],\"theta\":[\"nb_orders\",\"total_spend\",\"mean_payment_sequential\",\"mean_payment_installments\",\"mean_review_score\",\"mean_delivery_days\",\"total_items\",\"order_mean_delay\",\"r_score\",\"f_score\",\"m_score\",\"freight_ratio\",\"harvesine_distance\"],\"type\":\"scatterpolar\"},{\"fill\":\"toself\",\"name\":\"Cluster 1\",\"r\":[0.9999999999999991,0.32937193558655364,0.0,0.0,0.9999999999999999,0.0,0.5108436280652615,0.0,0.0,0.5108436280652615,0.07325056110706019,0.10435607378057865,0.0],\"theta\":[\"nb_orders\",\"total_spend\",\"mean_payment_sequential\",\"mean_payment_installments\",\"mean_review_score\",\"mean_delivery_days\",\"total_items\",\"order_mean_delay\",\"r_score\",\"f_score\",\"m_score\",\"freight_ratio\",\"harvesine_distance\"],\"type\":\"scatterpolar\"},{\"fill\":\"toself\",\"name\":\"Cluster 2\",\"r\":[0.7753318899658952,0.8183522275667019,0.7518159046601007,0.6900650074910049,0.0,1.0,1.0,0.4217318377242744,0.4242455026813512,1.0,0.7237149629739346,0.2641557215880419,0.1259861438320304],\"theta\":[\"nb_orders\",\"total_spend\",\"mean_payment_sequential\",\"mean_payment_installments\",\"mean_review_score\",\"mean_delivery_days\",\"total_items\",\"order_mean_delay\",\"r_score\",\"f_score\",\"m_score\",\"freight_ratio\",\"harvesine_distance\"],\"type\":\"scatterpolar\"},{\"fill\":\"toself\",\"name\":\"Cluster 3\",\"r\":[0.0,0.0,0.9999999999999996,0.27971285449819483,0.9943506515045665,0.10983869161280002,0.0,1.0,0.9999999999999999,0.0,0.0,0.0,0.016229341186226737],\"theta\":[\"nb_orders\",\"total_spend\",\"mean_payment_sequential\",\"mean_payment_installments\",\"mean_review_score\",\"mean_delivery_days\",\"total_items\",\"order_mean_delay\",\"r_score\",\"f_score\",\"m_score\",\"freight_ratio\",\"harvesine_distance\"],\"type\":\"scatterpolar\"}],                        {\"template\":{\"data\":{\"bar\":[{\"error_x\":{\"color\":\"#2a3f5f\"},\"error_y\":{\"color\":\"#2a3f5f\"},\"marker\":{\"line\":{\"color\":\"#E5ECF6\",\"width\":0.5},\"pattern\":{\"fillmode\":\"overlay\",\"size\":10,\"solidity\":0.2}},\"type\":\"bar\"}],\"barpolar\":[{\"marker\":{\"line\":{\"color\":\"#E5ECF6\",\"width\":0.5},\"pattern\":{\"fillmode\":\"overlay\",\"size\":10,\"solidity\":0.2}},\"type\":\"barpolar\"}],\"carpet\":[{\"aaxis\":{\"endlinecolor\":\"#2a3f5f\",\"gridcolor\":\"white\",\"linecolor\":\"white\",\"minorgridcolor\":\"white\",\"startlinecolor\":\"#2a3f5f\"},\"baxis\":{\"endlinecolor\":\"#2a3f5f\",\"gridcolor\":\"white\",\"linecolor\":\"white\",\"minorgridcolor\":\"white\",\"startlinecolor\":\"#2a3f5f\"},\"type\":\"carpet\"}],\"choropleth\":[{\"colorbar\":{\"outlinewidth\":0,\"ticks\":\"\"},\"type\":\"choropleth\"}],\"contour\":[{\"colorbar\":{\"outlinewidth\":0,\"ticks\":\"\"},\"colorscale\":[[0.0,\"#0d0887\"],[0.1111111111111111,\"#46039f\"],[0.2222222222222222,\"#7201a8\"],[0.3333333333333333,\"#9c179e\"],[0.4444444444444444,\"#bd3786\"],[0.5555555555555556,\"#d8576b\"],[0.6666666666666666,\"#ed7953\"],[0.7777777777777778,\"#fb9f3a\"],[0.8888888888888888,\"#fdca26\"],[1.0,\"#f0f921\"]],\"type\":\"contour\"}],\"contourcarpet\":[{\"colorbar\":{\"outlinewidth\":0,\"ticks\":\"\"},\"type\":\"contourcarpet\"}],\"heatmap\":[{\"colorbar\":{\"outlinewidth\":0,\"ticks\":\"\"},\"colorscale\":[[0.0,\"#0d0887\"],[0.1111111111111111,\"#46039f\"],[0.2222222222222222,\"#7201a8\"],[0.3333333333333333,\"#9c179e\"],[0.4444444444444444,\"#bd3786\"],[0.5555555555555556,\"#d8576b\"],[0.6666666666666666,\"#ed7953\"],[0.7777777777777778,\"#fb9f3a\"],[0.8888888888888888,\"#fdca26\"],[1.0,\"#f0f921\"]],\"type\":\"heatmap\"}],\"heatmapgl\":[{\"colorbar\":{\"outlinewidth\":0,\"ticks\":\"\"},\"colorscale\":[[0.0,\"#0d0887\"],[0.1111111111111111,\"#46039f\"],[0.2222222222222222,\"#7201a8\"],[0.3333333333333333,\"#9c179e\"],[0.4444444444444444,\"#bd3786\"],[0.5555555555555556,\"#d8576b\"],[0.6666666666666666,\"#ed7953\"],[0.7777777777777778,\"#fb9f3a\"],[0.8888888888888888,\"#fdca26\"],[1.0,\"#f0f921\"]],\"type\":\"heatmapgl\"}],\"histogram\":[{\"marker\":{\"pattern\":{\"fillmode\":\"overlay\",\"size\":10,\"solidity\":0.2}},\"type\":\"histogram\"}],\"histogram2d\":[{\"colorbar\":{\"outlinewidth\":0,\"ticks\":\"\"},\"colorscale\":[[0.0,\"#0d0887\"],[0.1111111111111111,\"#46039f\"],[0.2222222222222222,\"#7201a8\"],[0.3333333333333333,\"#9c179e\"],[0.4444444444444444,\"#bd3786\"],[0.5555555555555556,\"#d8576b\"],[0.6666666666666666,\"#ed7953\"],[0.7777777777777778,\"#fb9f3a\"],[0.8888888888888888,\"#fdca26\"],[1.0,\"#f0f921\"]],\"type\":\"histogram2d\"}],\"histogram2dcontour\":[{\"colorbar\":{\"outlinewidth\":0,\"ticks\":\"\"},\"colorscale\":[[0.0,\"#0d0887\"],[0.1111111111111111,\"#46039f\"],[0.2222222222222222,\"#7201a8\"],[0.3333333333333333,\"#9c179e\"],[0.4444444444444444,\"#bd3786\"],[0.5555555555555556,\"#d8576b\"],[0.6666666666666666,\"#ed7953\"],[0.7777777777777778,\"#fb9f3a\"],[0.8888888888888888,\"#fdca26\"],[1.0,\"#f0f921\"]],\"type\":\"histogram2dcontour\"}],\"mesh3d\":[{\"colorbar\":{\"outlinewidth\":0,\"ticks\":\"\"},\"type\":\"mesh3d\"}],\"parcoords\":[{\"line\":{\"colorbar\":{\"outlinewidth\":0,\"ticks\":\"\"}},\"type\":\"parcoords\"}],\"pie\":[{\"automargin\":true,\"type\":\"pie\"}],\"scatter\":[{\"marker\":{\"colorbar\":{\"outlinewidth\":0,\"ticks\":\"\"}},\"type\":\"scatter\"}],\"scatter3d\":[{\"line\":{\"colorbar\":{\"outlinewidth\":0,\"ticks\":\"\"}},\"marker\":{\"colorbar\":{\"outlinewidth\":0,\"ticks\":\"\"}},\"type\":\"scatter3d\"}],\"scattercarpet\":[{\"marker\":{\"colorbar\":{\"outlinewidth\":0,\"ticks\":\"\"}},\"type\":\"scattercarpet\"}],\"scattergeo\":[{\"marker\":{\"colorbar\":{\"outlinewidth\":0,\"ticks\":\"\"}},\"type\":\"scattergeo\"}],\"scattergl\":[{\"marker\":{\"colorbar\":{\"outlinewidth\":0,\"ticks\":\"\"}},\"type\":\"scattergl\"}],\"scattermapbox\":[{\"marker\":{\"colorbar\":{\"outlinewidth\":0,\"ticks\":\"\"}},\"type\":\"scattermapbox\"}],\"scatterpolar\":[{\"marker\":{\"colorbar\":{\"outlinewidth\":0,\"ticks\":\"\"}},\"type\":\"scatterpolar\"}],\"scatterpolargl\":[{\"marker\":{\"colorbar\":{\"outlinewidth\":0,\"ticks\":\"\"}},\"type\":\"scatterpolargl\"}],\"scatterternary\":[{\"marker\":{\"colorbar\":{\"outlinewidth\":0,\"ticks\":\"\"}},\"type\":\"scatterternary\"}],\"surface\":[{\"colorbar\":{\"outlinewidth\":0,\"ticks\":\"\"},\"colorscale\":[[0.0,\"#0d0887\"],[0.1111111111111111,\"#46039f\"],[0.2222222222222222,\"#7201a8\"],[0.3333333333333333,\"#9c179e\"],[0.4444444444444444,\"#bd3786\"],[0.5555555555555556,\"#d8576b\"],[0.6666666666666666,\"#ed7953\"],[0.7777777777777778,\"#fb9f3a\"],[0.8888888888888888,\"#fdca26\"],[1.0,\"#f0f921\"]],\"type\":\"surface\"}],\"table\":[{\"cells\":{\"fill\":{\"color\":\"#EBF0F8\"},\"line\":{\"color\":\"white\"}},\"header\":{\"fill\":{\"color\":\"#C8D4E3\"},\"line\":{\"color\":\"white\"}},\"type\":\"table\"}]},\"layout\":{\"annotationdefaults\":{\"arrowcolor\":\"#2a3f5f\",\"arrowhead\":0,\"arrowwidth\":1},\"autotypenumbers\":\"strict\",\"coloraxis\":{\"colorbar\":{\"outlinewidth\":0,\"ticks\":\"\"}},\"colorscale\":{\"diverging\":[[0,\"#8e0152\"],[0.1,\"#c51b7d\"],[0.2,\"#de77ae\"],[0.3,\"#f1b6da\"],[0.4,\"#fde0ef\"],[0.5,\"#f7f7f7\"],[0.6,\"#e6f5d0\"],[0.7,\"#b8e186\"],[0.8,\"#7fbc41\"],[0.9,\"#4d9221\"],[1,\"#276419\"]],\"sequential\":[[0.0,\"#0d0887\"],[0.1111111111111111,\"#46039f\"],[0.2222222222222222,\"#7201a8\"],[0.3333333333333333,\"#9c179e\"],[0.4444444444444444,\"#bd3786\"],[0.5555555555555556,\"#d8576b\"],[0.6666666666666666,\"#ed7953\"],[0.7777777777777778,\"#fb9f3a\"],[0.8888888888888888,\"#fdca26\"],[1.0,\"#f0f921\"]],\"sequentialminus\":[[0.0,\"#0d0887\"],[0.1111111111111111,\"#46039f\"],[0.2222222222222222,\"#7201a8\"],[0.3333333333333333,\"#9c179e\"],[0.4444444444444444,\"#bd3786\"],[0.5555555555555556,\"#d8576b\"],[0.6666666666666666,\"#ed7953\"],[0.7777777777777778,\"#fb9f3a\"],[0.8888888888888888,\"#fdca26\"],[1.0,\"#f0f921\"]]},\"colorway\":[\"#636efa\",\"#EF553B\",\"#00cc96\",\"#ab63fa\",\"#FFA15A\",\"#19d3f3\",\"#FF6692\",\"#B6E880\",\"#FF97FF\",\"#FECB52\"],\"font\":{\"color\":\"#2a3f5f\"},\"geo\":{\"bgcolor\":\"white\",\"lakecolor\":\"white\",\"landcolor\":\"#E5ECF6\",\"showlakes\":true,\"showland\":true,\"subunitcolor\":\"white\"},\"hoverlabel\":{\"align\":\"left\"},\"hovermode\":\"closest\",\"mapbox\":{\"style\":\"light\"},\"paper_bgcolor\":\"white\",\"plot_bgcolor\":\"#E5ECF6\",\"polar\":{\"angularaxis\":{\"gridcolor\":\"white\",\"linecolor\":\"white\",\"ticks\":\"\"},\"bgcolor\":\"#E5ECF6\",\"radialaxis\":{\"gridcolor\":\"white\",\"linecolor\":\"white\",\"ticks\":\"\"}},\"scene\":{\"xaxis\":{\"backgroundcolor\":\"#E5ECF6\",\"gridcolor\":\"white\",\"gridwidth\":2,\"linecolor\":\"white\",\"showbackground\":true,\"ticks\":\"\",\"zerolinecolor\":\"white\"},\"yaxis\":{\"backgroundcolor\":\"#E5ECF6\",\"gridcolor\":\"white\",\"gridwidth\":2,\"linecolor\":\"white\",\"showbackground\":true,\"ticks\":\"\",\"zerolinecolor\":\"white\"},\"zaxis\":{\"backgroundcolor\":\"#E5ECF6\",\"gridcolor\":\"white\",\"gridwidth\":2,\"linecolor\":\"white\",\"showbackground\":true,\"ticks\":\"\",\"zerolinecolor\":\"white\"}},\"shapedefaults\":{\"line\":{\"color\":\"#2a3f5f\"}},\"ternary\":{\"aaxis\":{\"gridcolor\":\"white\",\"linecolor\":\"white\",\"ticks\":\"\"},\"baxis\":{\"gridcolor\":\"white\",\"linecolor\":\"white\",\"ticks\":\"\"},\"bgcolor\":\"#E5ECF6\",\"caxis\":{\"gridcolor\":\"white\",\"linecolor\":\"white\",\"ticks\":\"\"}},\"title\":{\"x\":0.05},\"xaxis\":{\"automargin\":true,\"gridcolor\":\"white\",\"linecolor\":\"white\",\"ticks\":\"\",\"title\":{\"standoff\":15},\"zerolinecolor\":\"white\",\"zerolinewidth\":2},\"yaxis\":{\"automargin\":true,\"gridcolor\":\"white\",\"linecolor\":\"white\",\"ticks\":\"\",\"title\":{\"standoff\":15},\"zerolinecolor\":\"white\",\"zerolinewidth\":2}}},\"polar\":{\"radialaxis\":{\"visible\":true,\"range\":[0,1]}},\"title\":{\"font\":{\"color\":\"blue\",\"size\":18},\"text\":\"Comparaison des moyennes par variable des clusters\",\"y\":0.95,\"x\":0.5,\"xanchor\":\"center\",\"yanchor\":\"top\"},\"showlegend\":true},                        {\"responsive\": true}                    ).then(function(){\n",
              "                            \n",
              "var gd = document.getElementById('47a177b8-5473-4db2-b049-44187e24ec08');\n",
              "var x = new MutationObserver(function (mutations, observer) {{\n",
              "        var display = window.getComputedStyle(gd).display;\n",
              "        if (!display || display === 'none') {{\n",
              "            console.log([gd, 'removed!']);\n",
              "            Plotly.purge(gd);\n",
              "            observer.disconnect();\n",
              "        }}\n",
              "}});\n",
              "\n",
              "// Listen for the removal of the full notebook cells\n",
              "var notebookContainer = gd.closest('#notebook-container');\n",
              "if (notebookContainer) {{\n",
              "    x.observe(notebookContainer, {childList: true});\n",
              "}}\n",
              "\n",
              "// Listen for the clearing of the current output cell\n",
              "var outputEl = gd.closest('.output');\n",
              "if (outputEl) {{\n",
              "    x.observe(outputEl, {childList: true});\n",
              "}}\n",
              "\n",
              "                        })                };                            </script>        </div>\n",
              "</body>\n",
              "</html>"
            ]
          },
          "metadata": {}
        }
      ]
    }
  ]
}